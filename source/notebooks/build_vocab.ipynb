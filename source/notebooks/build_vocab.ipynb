{
 "cells": [
  {
   "cell_type": "code",
   "execution_count": 1,
   "metadata": {},
   "outputs": [],
   "source": [
    "import sys\n",
    "sys.path.append('/source/main')\n",
    "import logging\n",
    "logging.basicConfig(level=logging.INFO)"
   ]
  },
  {
   "cell_type": "code",
   "execution_count": 2,
   "metadata": {},
   "outputs": [],
   "source": [
    "import pandas as pd\n",
    "\n",
    "from naruto_skills.voc import Voc"
   ]
  },
  {
   "cell_type": "code",
   "execution_count": 9,
   "metadata": {},
   "outputs": [],
   "source": [
    "df = pd.read_csv('/source/main/data_for_train/output/my_train.csv')"
   ]
  },
  {
   "cell_type": "code",
   "execution_count": 10,
   "metadata": {},
   "outputs": [
    {
     "data": {
      "text/plain": [
       "(1531381, 2)"
      ]
     },
     "execution_count": 10,
     "metadata": {},
     "output_type": "execute_result"
    }
   ],
   "source": [
    "df.shape"
   ]
  },
  {
   "cell_type": "code",
   "execution_count": 11,
   "metadata": {},
   "outputs": [],
   "source": [
    "df.dropna(inplace=True)"
   ]
  },
  {
   "cell_type": "code",
   "execution_count": 12,
   "metadata": {},
   "outputs": [
    {
     "data": {
      "text/html": [
       "<div>\n",
       "<style scoped>\n",
       "    .dataframe tbody tr th:only-of-type {\n",
       "        vertical-align: middle;\n",
       "    }\n",
       "\n",
       "    .dataframe tbody tr th {\n",
       "        vertical-align: top;\n",
       "    }\n",
       "\n",
       "    .dataframe thead th {\n",
       "        text-align: right;\n",
       "    }\n",
       "</style>\n",
       "<table border=\"1\" class=\"dataframe\">\n",
       "  <thead>\n",
       "    <tr style=\"text-align: right;\">\n",
       "      <th></th>\n",
       "      <th>tgt</th>\n",
       "      <th>src</th>\n",
       "    </tr>\n",
       "  </thead>\n",
       "  <tbody>\n",
       "    <tr>\n",
       "      <th>961705</th>\n",
       "      <td>Polyalthia obliqua là loài thực vật có hoa thu...</td>\n",
       "      <td>Polyalthia obliqua la loai thuc vat co hoa thu...</td>\n",
       "    </tr>\n",
       "    <tr>\n",
       "      <th>677730</th>\n",
       "      <td>Tốt cho sức khỏe tim mạch Nhiều nghiên cứu đã ...</td>\n",
       "      <td>Tot cho suc khoe tim mach Nhieu nghien cuu da ...</td>\n",
       "    </tr>\n",
       "    <tr>\n",
       "      <th>1140504</th>\n",
       "      <td>Còn nhớ , thời Huỳnh Đức về đây làm việc , đội...</td>\n",
       "      <td>Con nho , thoi Huynh Duc ve day lam viec , doi...</td>\n",
       "    </tr>\n",
       "    <tr>\n",
       "      <th>1056993</th>\n",
       "      <td>Silene ruinarum là loài thực vật có hoa thuộc ...</td>\n",
       "      <td>Silene ruinarum la loai thuc vat co hoa thuoc ...</td>\n",
       "    </tr>\n",
       "    <tr>\n",
       "      <th>3861</th>\n",
       "      <td>Cũng chỉ khoảng 30 % dân số nước này đang sử d...</td>\n",
       "      <td>Cung chi khoang 30 % dan so nuoc nay dang su d...</td>\n",
       "    </tr>\n",
       "    <tr>\n",
       "      <th>1342372</th>\n",
       "      <td>Ông qua đời vào ngày 23 tháng 1 năm 1981 tại T...</td>\n",
       "      <td>Ong qua doi vao ngay 23 thang 1 nam 1981 tai T...</td>\n",
       "    </tr>\n",
       "    <tr>\n",
       "      <th>462891</th>\n",
       "      <td>Verbesina holwayi là một loài thực vật có hoa ...</td>\n",
       "      <td>Verbesina holwayi la mot loai thuc vat co hoa ...</td>\n",
       "    </tr>\n",
       "    <tr>\n",
       "      <th>800750</th>\n",
       "      <td>Indigofera declinata là một loài thực vật có h...</td>\n",
       "      <td>Indigofera declinata la mot loai thuc vat co h...</td>\n",
       "    </tr>\n",
       "    <tr>\n",
       "      <th>1493962</th>\n",
       "      <td>Việc tái cấu trúc nguồn lực này sẽ mang lại ch...</td>\n",
       "      <td>Viec tai cau truc nguon luc nay se mang lai ch...</td>\n",
       "    </tr>\n",
       "    <tr>\n",
       "      <th>1246395</th>\n",
       "      <td>Hầu hết người dùng không biết về IoT cũng như ...</td>\n",
       "      <td>Hau het nguoi dung khong biet ve IoT cung nhu ...</td>\n",
       "    </tr>\n",
       "  </tbody>\n",
       "</table>\n",
       "</div>"
      ],
      "text/plain": [
       "                                                       tgt  \\\n",
       "961705   Polyalthia obliqua là loài thực vật có hoa thu...   \n",
       "677730   Tốt cho sức khỏe tim mạch Nhiều nghiên cứu đã ...   \n",
       "1140504  Còn nhớ , thời Huỳnh Đức về đây làm việc , đội...   \n",
       "1056993  Silene ruinarum là loài thực vật có hoa thuộc ...   \n",
       "3861     Cũng chỉ khoảng 30 % dân số nước này đang sử d...   \n",
       "1342372  Ông qua đời vào ngày 23 tháng 1 năm 1981 tại T...   \n",
       "462891   Verbesina holwayi là một loài thực vật có hoa ...   \n",
       "800750   Indigofera declinata là một loài thực vật có h...   \n",
       "1493962  Việc tái cấu trúc nguồn lực này sẽ mang lại ch...   \n",
       "1246395  Hầu hết người dùng không biết về IoT cũng như ...   \n",
       "\n",
       "                                                       src  \n",
       "961705   Polyalthia obliqua la loai thuc vat co hoa thu...  \n",
       "677730   Tot cho suc khoe tim mach Nhieu nghien cuu da ...  \n",
       "1140504  Con nho , thoi Huynh Duc ve day lam viec , doi...  \n",
       "1056993  Silene ruinarum la loai thuc vat co hoa thuoc ...  \n",
       "3861     Cung chi khoang 30 % dan so nuoc nay dang su d...  \n",
       "1342372  Ong qua doi vao ngay 23 thang 1 nam 1981 tai T...  \n",
       "462891   Verbesina holwayi la mot loai thuc vat co hoa ...  \n",
       "800750   Indigofera declinata la mot loai thuc vat co h...  \n",
       "1493962  Viec tai cau truc nguon luc nay se mang lai ch...  \n",
       "1246395  Hau het nguoi dung khong biet ve IoT cung nhu ...  "
      ]
     },
     "execution_count": 12,
     "metadata": {},
     "output_type": "execute_result"
    }
   ],
   "source": [
    "df.sample(10)"
   ]
  },
  {
   "cell_type": "markdown",
   "metadata": {},
   "source": [
    "# Vocab for src"
   ]
  },
  {
   "cell_type": "code",
   "execution_count": 13,
   "metadata": {},
   "outputs": [],
   "source": [
    "voc = Voc(tokenize_func=Voc.WORD_LV_TOK_FUNC, space_char=Voc.WORD_LV_SPACE_CHR)"
   ]
  },
  {
   "cell_type": "code",
   "execution_count": 14,
   "metadata": {},
   "outputs": [],
   "source": [
    "voc = Voc(tokenize_func=Voc.WORD_LV_TOK_FUNC, space_char=Voc.WORD_LV_SPACE_CHR)\n",
    "for doc in df['src']:\n",
    "    voc.add_sentence(doc)"
   ]
  },
  {
   "cell_type": "code",
   "execution_count": 15,
   "metadata": {},
   "outputs": [
    {
     "data": {
      "text/plain": [
       "350505"
      ]
     },
     "execution_count": 15,
     "metadata": {},
     "output_type": "execute_result"
    }
   ],
   "source": [
    "len(voc.word2count)"
   ]
  },
  {
   "cell_type": "markdown",
   "metadata": {},
   "source": [
    "## Trim out infrequent vocabs"
   ]
  },
  {
   "cell_type": "code",
   "execution_count": 16,
   "metadata": {},
   "outputs": [],
   "source": [
    "freq = [(k, v) for k, v in voc.word2count.items() ]\n",
    "freq.sort(key=lambda x: x[1], reverse=True)"
   ]
  },
  {
   "cell_type": "code",
   "execution_count": 17,
   "metadata": {},
   "outputs": [],
   "source": [
    "# freq[30000:30100]"
   ]
  },
  {
   "cell_type": "code",
   "execution_count": 18,
   "metadata": {},
   "outputs": [
    {
     "name": "stderr",
     "output_type": "stream",
     "text": [
      "INFO:root:keep_words 33462 / 350505 = 0.0955\n"
     ]
    }
   ],
   "source": [
    "voc.trim(min_count=10)"
   ]
  },
  {
   "cell_type": "code",
   "execution_count": 19,
   "metadata": {},
   "outputs": [
    {
     "name": "stderr",
     "output_type": "stream",
     "text": [
      "INFO:root:Indexing vocabs successfully. Total vocabs: 33466\n"
     ]
    }
   ],
   "source": [
    "voc.build_from_scratch(special_tokens=['__p__', '__o__', '__s__', '__e__'])"
   ]
  },
  {
   "cell_type": "markdown",
   "metadata": {},
   "source": [
    "## Clean vocab"
   ]
  },
  {
   "cell_type": "code",
   "execution_count": 23,
   "metadata": {},
   "outputs": [
    {
     "data": {
      "text/plain": [
       "33464"
      ]
     },
     "execution_count": 23,
     "metadata": {},
     "output_type": "execute_result"
    }
   ],
   "source": [
    "len(voc.word2index)"
   ]
  },
  {
   "cell_type": "code",
   "execution_count": 24,
   "metadata": {},
   "outputs": [],
   "source": [
    "def is_alpha(tok):\n",
    "    if len(tok) == 1:\n",
    "        return True\n",
    "    return all([c.isalpha() for c in tok])\n",
    "\n",
    "def is_valid_len(tok):\n",
    "    return len(tok) <= 10\n",
    "\n",
    "def is_valid_token(tok):\n",
    "    if not is_alpha(tok):\n",
    "        return False\n",
    "    if not is_valid_len(tok):\n",
    "        return False\n",
    "    return True"
   ]
  },
  {
   "cell_type": "code",
   "execution_count": 25,
   "metadata": {},
   "outputs": [],
   "source": [
    "vocabs = [vocab for vocab in voc.word2index if is_valid_token(vocab)]"
   ]
  },
  {
   "cell_type": "code",
   "execution_count": 26,
   "metadata": {},
   "outputs": [
    {
     "data": {
      "text/plain": [
       "25386"
      ]
     },
     "execution_count": 26,
     "metadata": {},
     "output_type": "execute_result"
    }
   ],
   "source": [
    "len(vocabs)"
   ]
  },
  {
   "cell_type": "code",
   "execution_count": 27,
   "metadata": {},
   "outputs": [],
   "source": [
    "del voc"
   ]
  },
  {
   "cell_type": "code",
   "execution_count": 28,
   "metadata": {},
   "outputs": [
    {
     "name": "stderr",
     "output_type": "stream",
     "text": [
      "INFO:root:Indexing vocabs successfully. Total vocabs: 25390\n"
     ]
    }
   ],
   "source": [
    "voc = Voc(tokenize_func=Voc.WORD_LV_TOK_FUNC, space_char=Voc.WORD_LV_SPACE_CHR)\n",
    "voc.add_sentence(' '.join(vocabs))\n",
    "voc.build_from_scratch(special_tokens=['__p__', '__o__', '__s__', '__e__'])"
   ]
  },
  {
   "cell_type": "code",
   "execution_count": 29,
   "metadata": {},
   "outputs": [
    {
     "data": {
      "text/plain": [
       "25390"
      ]
     },
     "execution_count": 29,
     "metadata": {},
     "output_type": "execute_result"
    }
   ],
   "source": [
    "len(voc.word2index)"
   ]
  },
  {
   "cell_type": "code",
   "execution_count": 34,
   "metadata": {},
   "outputs": [
    {
     "data": {
      "text/plain": [
       "1"
      ]
     },
     "execution_count": 34,
     "metadata": {},
     "output_type": "execute_result"
    }
   ],
   "source": [
    "voc.word2index['__o__']"
   ]
  },
  {
   "cell_type": "code",
   "execution_count": 35,
   "metadata": {},
   "outputs": [
    {
     "name": "stdout",
     "output_type": "stream",
     "text": [
      "Done\n"
     ]
    }
   ],
   "source": [
    "voc.dump('/source/main/vocab/output/src.pkl')\n",
    "print('Done')\n",
    "del voc"
   ]
  },
  {
   "cell_type": "markdown",
   "metadata": {},
   "source": [
    "# Vocab for tgt"
   ]
  },
  {
   "cell_type": "code",
   "execution_count": 36,
   "metadata": {},
   "outputs": [],
   "source": [
    "voc = Voc(tokenize_func=Voc.WORD_LV_TOK_FUNC, space_char=Voc.WORD_LV_SPACE_CHR)\n",
    "for doc in df['tgt']:\n",
    "    voc.add_sentence(doc)"
   ]
  },
  {
   "cell_type": "code",
   "execution_count": 37,
   "metadata": {},
   "outputs": [
    {
     "data": {
      "text/plain": [
       "368671"
      ]
     },
     "execution_count": 37,
     "metadata": {},
     "output_type": "execute_result"
    }
   ],
   "source": [
    "len(voc.word2count)"
   ]
  },
  {
   "cell_type": "markdown",
   "metadata": {},
   "source": [
    "## Trim out infrequent vocabs"
   ]
  },
  {
   "cell_type": "code",
   "execution_count": 38,
   "metadata": {},
   "outputs": [],
   "source": [
    "freq = [(k, v) for k, v in voc.word2count.items() ]\n",
    "freq.sort(key=lambda x: x[1], reverse=True)"
   ]
  },
  {
   "cell_type": "code",
   "execution_count": 39,
   "metadata": {},
   "outputs": [],
   "source": [
    "# freq[60000:60100]"
   ]
  },
  {
   "cell_type": "code",
   "execution_count": 40,
   "metadata": {},
   "outputs": [
    {
     "name": "stderr",
     "output_type": "stream",
     "text": [
      "INFO:root:keep_words 65660 / 368671 = 0.1781\n"
     ]
    }
   ],
   "source": [
    "voc.trim(5)"
   ]
  },
  {
   "cell_type": "code",
   "execution_count": 41,
   "metadata": {},
   "outputs": [
    {
     "name": "stderr",
     "output_type": "stream",
     "text": [
      "INFO:root:Indexing vocabs successfully. Total vocabs: 65664\n"
     ]
    }
   ],
   "source": [
    "voc.build_from_scratch(special_tokens=['__p__', '__o__', '__s__', '__e__'])"
   ]
  },
  {
   "cell_type": "markdown",
   "metadata": {},
   "source": [
    "## Clean vocab"
   ]
  },
  {
   "cell_type": "code",
   "execution_count": 42,
   "metadata": {},
   "outputs": [
    {
     "data": {
      "text/plain": [
       "65664"
      ]
     },
     "execution_count": 42,
     "metadata": {},
     "output_type": "execute_result"
    }
   ],
   "source": [
    "len(voc.word2index)"
   ]
  },
  {
   "cell_type": "code",
   "execution_count": 43,
   "metadata": {},
   "outputs": [],
   "source": [
    "def is_alpha(tok):\n",
    "    if len(tok) == 1:\n",
    "        return True\n",
    "    return all([c.isalpha() for c in tok])\n",
    "\n",
    "def is_valid_len(tok):\n",
    "    return len(tok) <= 10\n",
    "\n",
    "def is_valid_token(tok):\n",
    "    if not is_alpha(tok):\n",
    "        return False\n",
    "    if not is_valid_len(tok):\n",
    "        return False\n",
    "    return True"
   ]
  },
  {
   "cell_type": "code",
   "execution_count": 44,
   "metadata": {},
   "outputs": [],
   "source": [
    "vocabs = [vocab for vocab in voc.word2index if is_valid_token(vocab)]"
   ]
  },
  {
   "cell_type": "code",
   "execution_count": 45,
   "metadata": {},
   "outputs": [
    {
     "data": {
      "text/plain": [
       "50433"
      ]
     },
     "execution_count": 45,
     "metadata": {},
     "output_type": "execute_result"
    }
   ],
   "source": [
    "len(vocabs)"
   ]
  },
  {
   "cell_type": "code",
   "execution_count": 46,
   "metadata": {},
   "outputs": [],
   "source": [
    "del voc"
   ]
  },
  {
   "cell_type": "code",
   "execution_count": 47,
   "metadata": {},
   "outputs": [
    {
     "name": "stderr",
     "output_type": "stream",
     "text": [
      "INFO:root:Indexing vocabs successfully. Total vocabs: 50437\n"
     ]
    }
   ],
   "source": [
    "voc = Voc(tokenize_func=Voc.WORD_LV_TOK_FUNC, space_char=Voc.WORD_LV_SPACE_CHR)\n",
    "voc.add_sentence(' '.join(vocabs))\n",
    "voc.build_from_scratch(special_tokens=['__p__', '__o__', '__s__', '__e__'])"
   ]
  },
  {
   "cell_type": "code",
   "execution_count": 48,
   "metadata": {},
   "outputs": [
    {
     "data": {
      "text/plain": [
       "50437"
      ]
     },
     "execution_count": 48,
     "metadata": {},
     "output_type": "execute_result"
    }
   ],
   "source": [
    "len(voc.word2index)"
   ]
  },
  {
   "cell_type": "code",
   "execution_count": 49,
   "metadata": {},
   "outputs": [
    {
     "data": {
      "text/plain": [
       "50437"
      ]
     },
     "execution_count": 49,
     "metadata": {},
     "output_type": "execute_result"
    }
   ],
   "source": [
    "len(voc.index2word)"
   ]
  },
  {
   "cell_type": "code",
   "execution_count": 50,
   "metadata": {},
   "outputs": [
    {
     "data": {
      "text/plain": [
       "5"
      ]
     },
     "execution_count": 50,
     "metadata": {},
     "output_type": "execute_result"
    }
   ],
   "source": [
    "voc.word2index['.']"
   ]
  },
  {
   "cell_type": "code",
   "execution_count": 51,
   "metadata": {},
   "outputs": [
    {
     "name": "stdout",
     "output_type": "stream",
     "text": [
      "Done\n"
     ]
    }
   ],
   "source": [
    "voc.dump('/source/main/vocab/output/tgt.pkl')\n",
    "print('Done')\n",
    "del voc"
   ]
  },
  {
   "cell_type": "code",
   "execution_count": null,
   "metadata": {},
   "outputs": [],
   "source": []
  },
  {
   "cell_type": "code",
   "execution_count": null,
   "metadata": {},
   "outputs": [],
   "source": []
  },
  {
   "cell_type": "code",
   "execution_count": 3,
   "metadata": {},
   "outputs": [
    {
     "name": "stderr",
     "output_type": "stream",
     "text": [
      "INFO:root:Indexing vocabs successfully. Total vocabs: 25390\n"
     ]
    }
   ],
   "source": [
    "voc = Voc.load('/source/main/vocab/output/src.pkl')"
   ]
  },
  {
   "cell_type": "code",
   "execution_count": 4,
   "metadata": {},
   "outputs": [
    {
     "data": {
      "text/plain": [
       "2"
      ]
     },
     "execution_count": 4,
     "metadata": {},
     "output_type": "execute_result"
    }
   ],
   "source": [
    "voc.word2index['__s__']"
   ]
  },
  {
   "cell_type": "code",
   "execution_count": 5,
   "metadata": {},
   "outputs": [
    {
     "data": {
      "text/plain": [
       "3"
      ]
     },
     "execution_count": 5,
     "metadata": {},
     "output_type": "execute_result"
    }
   ],
   "source": [
    "voc.word2index['__e__']"
   ]
  },
  {
   "cell_type": "code",
   "execution_count": null,
   "metadata": {},
   "outputs": [],
   "source": []
  }
 ],
 "metadata": {
  "kernelspec": {
   "display_name": "Python 3",
   "language": "python",
   "name": "python3"
  },
  "language_info": {
   "codemirror_mode": {
    "name": "ipython",
    "version": 3
   },
   "file_extension": ".py",
   "mimetype": "text/x-python",
   "name": "python",
   "nbconvert_exporter": "python",
   "pygments_lexer": "ipython3",
   "version": "3.6.8"
  }
 },
 "nbformat": 4,
 "nbformat_minor": 2
}
