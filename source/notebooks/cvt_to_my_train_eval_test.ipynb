{
 "cells": [
  {
   "cell_type": "code",
   "execution_count": 1,
   "metadata": {},
   "outputs": [],
   "source": [
    "import sys\n",
    "sys.path.append('/source/main/')"
   ]
  },
  {
   "cell_type": "code",
   "execution_count": 2,
   "metadata": {},
   "outputs": [],
   "source": [
    "import logging\n",
    "logging.basicConfig(level=logging.INFO)\n",
    "import pandas as pd\n",
    "\n",
    "\n",
    "from utils import text_utils\n",
    "from preprocess import preprocessor"
   ]
  },
  {
   "cell_type": "code",
   "execution_count": 3,
   "metadata": {},
   "outputs": [],
   "source": [
    "MAX_LENGTH = 100 "
   ]
  },
  {
   "cell_type": "code",
   "execution_count": 4,
   "metadata": {
    "scrolled": true
   },
   "outputs": [
    {
     "name": "stderr",
     "output_type": "stream",
     "text": [
      "INFO:root:Pre-processing done\n",
      "INFO:root:-- Some samples: \n",
      "INFO:root:-- -- Theo CTCK FPT ( FPTS ) , các chỉ báo kỹ thuật khác vẫn đang cho tín hiệu tích cực : MACD tiếp tục tăng và hướng đến đường 0 , Stochastic bắt đầu đi vào vùng quá mua , MFI , RSI vẫn đang tăng lên Đường giá vẫn đang vận động trên kênh tăng trưởng ngắn hạn và hướng đến vùng kháng cự mới 515 là sự kết hợp của MA 50 và biên trên của Bollinger band .\n",
      "INFO:root:-- -- Và Vua bóng đá là người giành chiến thắng với một cú hat-trick trong vòng 23 phút ( từ 52 đến 75 ) giúp đội bóng xứ Samba hạ gục Les Bleus với tỉ số 5-2 , đồng thời thiết lập kỉ lục cầu thủ trẻ nhất nhất lập hat-trick tại một kì World Cup .\n",
      "INFO:root:-- -- Thiếu tá Bùi Hữu Thỉnh , Đội trưởng đội Cảnh sát giao thông Lai Hà , thuộc Phòng Cảnh sát giao thông Công an tỉnh Lai Châu cho biết : Vào khoảng 16 giờ 30 phút ngày 25/8 , tại km 76+200 , quốc lộ 12 , địa bàn xã Chăn Nưa , huyện Sìn Hồ , tỉnh Lai Châu xảy ra vụ tai nạn giao thông đặc biệt nghiêm trọng khiến 2 người tử vong .\n",
      "INFO:root:-- -- Tuy nhiên , nhiều ý kiến của những người chuyển giới cho rằng , luật không nên quy định cứng việc phải can thiệp về mặt y khoa ( đặc biệt là phải chuyển đổi bộ phận sinh dục ) thì mới được công nhận và được phép thay đổi về mặt pháp lý ( hộ tịch , giấy tờ chứng nhận nhân thân ) .\n",
      "INFO:root:-- -- Cô dâu Thu Linh cho biết : `` Mình rút kinh nghiệm từ bạn bè của mình , vì thích đi xa và chụp ở nhiều địa điểm nên phải lê la khá nhiều nơi , đi lại mệt nên cũng không còn sức mà diễn , chụp nhiều nhưng lọc ảnh để làm album lại không được mấy .\n",
      "INFO:root:-- -- Dù sao Paetus dường như cũng đã tin tưởng vào chiến thắng , và sau khi người Parthia tuyên bố chiến tranh cùng với đó là đánh chiếm Tigranocerta , ông ta đã tự mình xâm lược Armenia , trong khi Corbulo vẫn ở Syria , tăng cường củng cố hơn nữa hệ thống công sự ở biên giới Euphrates .\n",
      "INFO:root:-- -- Sau khi kết thúc chiến tranh xứ Gaul , Viện nguyên lão La Mã đã từ chối cho phép Ceasar đảm nhận nhiệm kì chấp chính quan lần thứ hai của mình , ra ​​lệnh cho ông giao nộp lại quyền chỉ huy quân đội của mình , và yêu cầu ông trở về Roma để đối mặt với việc bị truy tố .\n",
      "INFO:root:-- -- Tata cũng khẳng định , sẽ sản xuất nhiều linh kiện ô tô , để tăng tỷ lệ nội địa hóa lên mức cao nhất có thể tại Indonesia nhằm giảm hơn nữa giá thành xe để chinh phục khách hàng trong khu vực Đông Nam Á . Thế Đạt ( TTTĐ )\n",
      "INFO:root:-- -- Đấy đâu phải lỗi của cô Kim Tiến Độc giả có biệt danh Ritmuller gửi chia sẻ tới báo Giáo dục Việt Nam : Vừa rồi , cháu thấy hình ảnh của cô được các bạn cộng đồng mạng đăng lên trang mạng xã hội Facebook với một dòng bình luận .\n",
      "INFO:root:-- -- Với trang phục áo màu đen , váy màu trắng cùng đôi giày cao gót màu nude tại Lễ trao giải MTV Movie Awards 2012 , Emma Stone đã đứng thứ 2 trong danh sách những ngôi sao mặc đẹp nhất trong tuần vừa qua do đọc giả của blog thời trang RCFA bình chọn .\n",
      "INFO:root:-- -- Chủ đầu tư có tiếng tại Hà Nội bật mí , để phù hợp với thị trường trong giai đoạn này , hầu hết các dự án được tung ra thị trường đều là các dự án với các chủ đầu tư có uy tín trên thị trường , có hạ tầng hoàn thiện , thời gian xây dựng nhanh .\n",
      "INFO:root:-- -- Chủ tịch Quốc hội Nguyễn Phú Trọng đề nghị các cơ quan kiểm toán thành viên tiếp tục ủng hộ Kiểm toán Nhà nước Việt Nam hội nhập tích cực với kiểm toán khu vực , hoàn thành tốt vai trò là thành viên Ban Điều hành ASOSAI và sẽ đăng cai tổ chức Đại hội ASOSAI vào năm 2015 .\n",
      "INFO:root:-- -- Theo đó , chúng tôi hoan nghênh cuộc Hội thảo sẽ được tổ chức vào ngày 7 tháng 12 năm 2010 tại Việt Nam nhằm giới thiệu Kế hoạch Tổng thể về Kết nối ASEAN cho công chúng và khuyến khích sự tham gia tích cực của tất cả các bên quan tâm nêu trên vào sự kiện này .\n",
      "INFO:root:-- -- Vụ việc này khiến người ta nhớ lại buổi họp báo công bố quyết định kỷ luật sân Lạch Tray hồi giữa tuần trước , Ban Kỷ luật VFF đã rất lúng túng trước những phản biện và chứng cứ từ băng ghi hình , ảnh của các phóng viên báo chí đưa ra .\n",
      "INFO:root:-- -- Thất bại của U23 Việt Nam gần đây lại bị gán với những chuyện như nghi án bán độ hay các ngôi sao xác trên sân bóng , hồn ở Đại hội VFF ( Đại hội thường niên nhiệm kỳ VI ) , rồi cả trách nhiệm của HLV Falko Goetz cũng được bàn đến .\n",
      "INFO:root:Pre-processing done\n",
      "INFO:root:-- Some samples: \n",
      "INFO:root:-- -- Máy in đa chức năng Dell 1135n .\n",
      "INFO:root:-- -- Khoảng 40 năm trước , cha mẹ anh Tú gặp nhau khi bà đã có hai con với chồng trước .\n",
      "INFO:root:-- -- Loài này được ( Benoist ) Cuatrec .\n",
      "INFO:root:-- -- Tuy nhiên , để tăng cường hiệu lực bổ dưỡng và phòng chống bệnh tật , đồng thời cũng để khắc phục tính chất khô khan , khó ăn của gạo lứt , người ta thường chế biến thành nhiều dạng khác nhau và tìm cách phối hợp với các thực phẩm khác tạo thành các món ăn hấp dẫn và độc đáo .\n",
      "INFO:root:-- -- Theo báo Izvestia , Viện nghiên cứu bay Gromov tại Zhukovsky đã tiến hành thử nghiệm và hiện nay máy bay IL-22 với thiết bị đặc biệt sẽ trải qua các bài kiểm tra nhà nước trước khi trang bị cho Không quân Nga .\n",
      "INFO:root:-- -- Piper cordatum là một loài thực vật có hoa trong họ Hồ tiêu .\n",
      "INFO:root:-- -- Biết tin quân Mân và Ngô Việt tiến đến , Tương Diên Huy đem binh về , quân Mân truy kích và gây thiệt hại nặng nề cho quân của Tương Diên Huy .\n",
      "INFO:root:-- -- Tại cuộc họp xây dựng danh mục các sản phẩm dinh dưỡng chứa sữa , các mặt hàng sữa nước dành riêng cho trẻ dưới 6 tuổi cũng được đề nghị đưa vào danh mục quản lý giá theo quy định tại Luật Giá .\n",
      "INFO:root:-- -- Học giả Mỹ : Doanh nghiệp Mỹ nên đặt cược vào Việt Nam .\n",
      "INFO:root:-- -- Mặc dù , Kiev và phương Tây liên tiếp cáo buộc Nga tham gia trực tiếp cuộc chiến tại Ukraine , Moscow khẳng định quốc gia này không điều động binh sĩ cũng như cung cấp vũ khí cho quân ly khai .\n",
      "INFO:root:-- -- Cùng với hai đại sứ thương hiệu : Noo Phước Thịnh Đại sứ thương hiệu Xe máy Honda Việt Nam và Tóc Tiên Đại sứ thương hiệu Ô tô và Xe máy Honda Việt Nam .\n",
      "INFO:root:-- -- Nếu quyết định ở lại Santos , cậu ấy sẽ thiếu đi tham vọng để phấn đấu .\n",
      "INFO:root:-- -- Dendrobium sanderianum là một loài thực vật có hoa trong họ Lan .\n",
      "INFO:root:-- -- Hangaravalli là một làng thuộc tehsil Chikmagalur , huyện Chikmagalur , bang Karnataka , Ấn Độ .\n",
      "INFO:root:-- -- Columbina cruziana là một loài chim trong họ Columbidae .\n",
      "INFO:root:Pre-processing done\n",
      "INFO:root:-- Some samples: \n",
      "INFO:root:-- -- Một hình ảnh còn nhớ mãi với các thợ cầu Đà Rằng bấy giờ là Phó Tổng Giám đốc Cienco4 Phạm Quang Vinh ( nay là Phó Tổng cục trưởng Tổng cục Đường bộ VN ) , người được giao trực tiếp điều hành dự án đã dựng lều bạt ngay trên bờ sông Ba để chỉ đạo thực hiện công trình .\n",
      "INFO:root:-- -- Anh Thào Văn Hoan , ở bản San Thàng 2 , xã San Thàng ( TP Lai Châu , tỉnh Lai Châu ) từng vướng vào vòng lao lý vì tội tàng trữ trái phép chất ma túy Cao gần 1m 70 , thân hình lực lưỡng , cơ bắp cuồn cuộn , nhìn dáng vẻ hiện nay , ít ai nghĩ anh nông dân chất phác này từng là đệ tử ruột của nàng tiên nâu .\n",
      "INFO:root:-- -- Và mỗi con người trong tập thể lớn ấy sẽ có những lựa chọn cho riêng mình , người sẽ vào đại học , người không . . . nhưng chắc rằng sẽ không ai nỡ quên những vui buồn thuở còn gắn bó với phấn trắng , bản đen , với sân trường , gốc phượng , và với cả những người bạn hồn nhiên tuổi chập chững vào đời .\n",
      "INFO:root:-- -- Macromia celaeno là loài chuồn chuồn trong họ Macromiidae .\n",
      "INFO:root:-- -- Cuộc thi Mrs . World Pageant 2009 do Tổ chức Mrs . World thực hiện sẽ diễn ra trong tháng 11-2009 tại tỉnh Bà Rịa Vũng Tàu , là một trong những cuộc thi sắc đẹp có uy tín trên thế giới , được tổ chức hàng năm nhằm tôn vinh hình ảnh người phụ nữ đã có gia đình , đẹp và thành đạt , có nhiều đóng góp cho xã hội .\n",
      "INFO:root:-- -- Ashcroft nhanh chóng có trận ra mắt đối đầu với Burton Swifts vào ngày 15 tháng 9 năm 1900 ; mặc dù Arsenal thua 1-0 nhưng Ashcroft vẫn giữ được vị trí của mình một cách vững chắc cho đến hết mùa giải đó , và kể cả mùa giải tiếp theo .\n",
      "INFO:root:-- -- TP - Ngày 2/10/2014 , Bộ GD & ĐT công bố và xin ý kiến đóng góp rộng rãi đối với Dự thảo Nghị định quy định về phân tầng và xếp hạng các cơ sở giáo dục đại học ( GD ĐH ) , ngay lập tức có ý kiến băn khoăn về tiêu chí xếp hạng .\n",
      "INFO:root:-- -- Khi đã là nội tướng , họ lại đau đầu với những mảnh ghép cuộc sống và cố thu xếp sao cho gia đình là một tổ hợp ổn thỏa nhất Còn lũ trẻ thì sao , trong đầu chúng vẫn chỉ là những con số khởi thủy , sự trong sáng với từng bước đi có lộ trình cuộc sống vẫn đang còn phía trước .\n"
     ]
    },
    {
     "name": "stderr",
     "output_type": "stream",
     "text": [
      "INFO:root:-- -- Ảnh : TTXVN Phát biểu tại lễ kỷ niệm , ông Phan Xuân Biên , Chủ tịch Hội hữu nghị Việt - Lào TP . HCM đã ôn lại lịch sử đấu tranh oai hùng của nhân dân các bộ tộc Lào và nêu bật những thành tựu mà đất nước Lào đã đạt được qua chặng đường đầy gian lao và thách thức trong 37 năm qua .\n",
      "INFO:root:-- -- Ngoài tham quan du lịch thì nhu cầu đi chơi , mua sắm cũng rất cao , ngành quản lý cần xiết đơn vị ký kết về các mặt hàng bày bán ở chợ , trong đó nên kiểm tra tình hình giá , hàng giả , hàng gian để bảo đảm chất lượng phục vụ cũng như uy tín địa phương .\n",
      "INFO:root:-- -- Sự việc càng trở nên căng thẳng hơn khi 16h , chị Hoa cùng chị ruột quay lại thì thấy cán bộ Hiếu đang đọc báo và có thông tin cho rằng , phải lót tay 200 . 000 đồng mới được cán bộ phường xác nhận nhanh .\n",
      "INFO:root:-- -- - Gia sư trước khi vào trung tâm được Test thử trình độ kiến thức một cách kỹ càng , nghiêm túc sau đó được đào tạo nghiệp vụ 6 tháng tại trung tâm , và có các kỳ thi nghiệp vụ sư phạm thi tuyển khắt khe , xây dựng một đội ngũ gia sư có năng lực , có trách nhiệm cao trong công việc cũng như trong giảng dạy .\n",
      "INFO:root:-- -- Trong khi đó , phát ngôn viên của phiến quân Djouma Narkoyo xác nhận rằng Seleka đã ngừng bước tiến của họ và sẽ bước vào cuộc đàm phán hòa bình do bắt đầu ở Libreville vào ngày 08 tháng 1 , điều kiện tiên quyết rằng các lực lượng chính phủ phải ngừng bắt giữ các thành viên của bộ tộc Gula .\n",
      "INFO:root:-- -- Chủ tịch QH lưu ý Văn phòng quan tâm đặc biệt đến chế độ cung cấp thông tin , báo cáo ; đẩy mạnh tuyên truyền , phối hợp với các cơ quan thông tấn báo chí lớn để thường xuyên cập nhật , truyền tải các mặt hoạt động của QH đến với cử tri .\n",
      "INFO:root:-- -- Năm 2010 , phong trào đã vận động 100 . 000 hộ gia đình tham gia , có 30 . 000 hộ đạt danh hiệu Hộ gia đình sử dụng năng lượng tiết kiệm và hiệu quả , 30 hộ đạt danh hiệu Hộ gia đình sử dụng năng lượng tiết kiệm và hiệu quả tiêu biểu .\n"
     ]
    }
   ],
   "source": [
    "with open('/dataset/vietnamese_tone_prediction/mine_split/my_test.txt', 'rt', encoding='utf-8') as i_f:\n",
    "    lines = i_f.readlines()\n",
    "lines = [l[:-1] for l in lines]\n",
    "\n",
    "df = pd.DataFrame({'tgt': lines})\n",
    "df['tgt'] = preprocessor.train_preprocess(df['tgt'], MAX_LENGTH)\n",
    "df['src'] = df['tgt'].map(text_utils.remove_tone_line)\n",
    "df.to_csv('/source/main/data_for_train/output/my_test.csv', index=None)\n",
    "\n",
    "with open('/dataset/vietnamese_tone_prediction/mine_split/my_train.txt', 'rt', encoding='utf-8') as i_f:\n",
    "    lines = i_f.readlines()\n",
    "lines = [l[:-1] for l in lines]\n",
    "\n",
    "df = pd.DataFrame({'tgt': lines})\n",
    "df['tgt'] = preprocessor.train_preprocess(df['tgt'], MAX_LENGTH)\n",
    "df['src'] = df['tgt'].map(text_utils.remove_tone_line)\n",
    "df.to_csv('/source/main/data_for_train/output/my_train.csv', index=None)\n",
    "\n",
    "\n",
    "with open('/dataset/vietnamese_tone_prediction/mine_split/my_eval.txt', 'rt', encoding='utf-8') as i_f:\n",
    "    lines = i_f.readlines()\n",
    "lines = [l[:-1] for l in lines]\n",
    "\n",
    "df = pd.DataFrame({'tgt': lines})\n",
    "df['tgt'] = preprocessor.train_preprocess(df['tgt'], MAX_LENGTH)\n",
    "df['src'] = df['tgt'].map(text_utils.remove_tone_line)\n",
    "df.to_csv('/source/main/data_for_train/output/my_eval.csv', index=None)\n"
   ]
  },
  {
   "cell_type": "code",
   "execution_count": 5,
   "metadata": {},
   "outputs": [
    {
     "name": "stdout",
     "output_type": "stream",
     "text": [
      "Done\n"
     ]
    }
   ],
   "source": [
    "print('Done')"
   ]
  },
  {
   "cell_type": "code",
   "execution_count": null,
   "metadata": {},
   "outputs": [],
   "source": []
  }
 ],
 "metadata": {
  "kernelspec": {
   "display_name": "Python 3",
   "language": "python",
   "name": "python3"
  },
  "language_info": {
   "codemirror_mode": {
    "name": "ipython",
    "version": 3
   },
   "file_extension": ".py",
   "mimetype": "text/x-python",
   "name": "python",
   "nbconvert_exporter": "python",
   "pygments_lexer": "ipython3",
   "version": "3.6.8"
  }
 },
 "nbformat": 4,
 "nbformat_minor": 2
}
