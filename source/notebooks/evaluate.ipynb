{
 "cells": [
  {
   "cell_type": "code",
   "execution_count": 1,
   "metadata": {},
   "outputs": [],
   "source": [
    "import sys\n",
    "sys.path.append('/source/main')"
   ]
  },
  {
   "cell_type": "code",
   "execution_count": 2,
   "metadata": {},
   "outputs": [],
   "source": [
    "import logging\n",
    "logging.basicConfig(level=logging.INFO)\n",
    "import time\n",
    "from itertools import chain\n",
    "\n",
    "import torch\n",
    "from torch import nn\n",
    "import numpy as np\n",
    "import pandas as pd\n",
    "pd.set_option('display.max_colwidth', -1)\n",
    "\n",
    "from model_def.baseline import Baseline\n",
    "from utils import pytorch_utils\n",
    "from data_for_train import my_dataset\n",
    "from train import trainer"
   ]
  },
  {
   "cell_type": "code",
   "execution_count": 3,
   "metadata": {},
   "outputs": [
    {
     "name": "stderr",
     "output_type": "stream",
     "text": [
      "INFO:root:Src vocab contains 3519 tokens\n",
      "INFO:root:Tgt vocab contains 8758 tokens\n"
     ]
    }
   ],
   "source": [
    "my_dataset.bootstrap()"
   ]
  },
  {
   "cell_type": "code",
   "execution_count": 4,
   "metadata": {},
   "outputs": [
    {
     "name": "stderr",
     "output_type": "stream",
     "text": [
      "INFO:root:Model architecture: \n",
      "Baseline(\n",
      "  (input_embedding): Embedding(3519, 512)\n",
      "  (conv1): Conv1d(512, 512, kernel_size=(5,), stride=(1,), padding=(2,))\n",
      "  (conv2): Conv1d(512, 512, kernel_size=(3,), stride=(1,), padding=(1,))\n",
      "  (conv3): Conv1d(512, 512, kernel_size=(3,), stride=(1,), padding=(1,))\n",
      "  (conv3_bn): BatchNorm1d(512, eps=1e-05, momentum=0.1, affine=True, track_running_stats=True)\n",
      "  (dropout): Dropout(p=0.3)\n",
      "  (conv4): Conv1d(1024, 512, kernel_size=(3,), stride=(1,), padding=(1,))\n",
      "  (conv4_bn): BatchNorm1d(512, eps=1e-05, momentum=0.1, affine=True, track_running_stats=True)\n",
      "  (conv5): Conv1d(512, 256, kernel_size=(3,), stride=(1,), padding=(1,))\n",
      "  (conv5_bn): BatchNorm1d(256, eps=1e-05, momentum=0.1, affine=True, track_running_stats=True)\n",
      "  (conv6): Conv1d(256, 256, kernel_size=(3,), stride=(1,), padding=(1,))\n",
      "  (conv6_bn): BatchNorm1d(256, eps=1e-05, momentum=0.1, affine=True, track_running_stats=True)\n",
      "  (fc): Linear(in_features=256, out_features=8758, bias=True)\n",
      "  (relu): ReLU()\n",
      ")\n",
      "INFO:root:Total trainable parameters: 9104438\n"
     ]
    }
   ],
   "source": [
    "# device = torch.device(\"cuda\" if torch.cuda.is_available() else \"cpu\")\n",
    "device = torch.device(\"cpu\")\n",
    "# del model\n",
    "model = Baseline(src_word_vocab_size=len(my_dataset.voc_src.index2word),\n",
    "                     tgt_word_vocab_size=len(my_dataset.voc_tgt.index2word))\n",
    "model.eval()\n",
    "logging.info('Model architecture: \\n%s', model)\n",
    "logging.info('Total trainable parameters: %s', pytorch_utils.count_parameters(model))"
   ]
  },
  {
   "cell_type": "code",
   "execution_count": 5,
   "metadata": {},
   "outputs": [],
   "source": [
    "MAX_LEN = 100"
   ]
  },
  {
   "cell_type": "code",
   "execution_count": 6,
   "metadata": {},
   "outputs": [],
   "source": [
    "def docs2input_tensors(preprocessed_docs):\n",
    "    seq_len = [len(doc.split()) for doc in preprocessed_docs]\n",
    "    word_input = [my_dataset.voc_src.docs2idx([doc], equal_length=MAX_LEN)[0] for doc in preprocessed_docs]\n",
    "    \n",
    "    inputs = (word_input, seq_len)\n",
    "    inputs = [np.array(i) for i in inputs]\n",
    "    input_tensors = [torch.from_numpy(i) for i in inputs]\n",
    "    return input_tensors\n",
    "\n",
    "def replace_unk_tok(pred, src):\n",
    "    pred = [p if p!='¶' else s for p, s in zip(pred, src)]\n",
    "    return ''.join(pred)\n",
    "\n",
    "def predict_batch(docs):\n",
    "    input_tensors = docs2input_tensors(docs)\n",
    "    predict_tensor = model.cvt_output(model(*input_tensors))\n",
    "    predict_numpy = predict_tensor.cpu().numpy()\n",
    "    \n",
    "    translated_docs = my_dataset.voc_tgt.idx2docs(predict_numpy)\n",
    "#     translated_docs = [pred[:len(src)] for src, pred in zip(docs, translated_docs)]\n",
    "    translated_docs = [replace_unk_tok(pred, src) for pred, src in zip(translated_docs, docs)]\n",
    "    return translated_docs\n",
    "\n",
    "def predict_docs(docs, batch_size):\n",
    "    return list(chain(*[predict_batch(docs[i: i+batch_size]) for i in range(0, len(docs), batch_size)]))\n"
   ]
  },
  {
   "cell_type": "code",
   "execution_count": 7,
   "metadata": {},
   "outputs": [
    {
     "data": {
      "text/plain": [
       "['ôm tiffany quèn qu']"
      ]
     },
     "execution_count": 7,
     "metadata": {},
     "output_type": "execute_result"
    }
   ],
   "source": [
    "predict_docs(['hom nay toi di hoc'], batch_size=10)"
   ]
  },
  {
   "cell_type": "code",
   "execution_count": 8,
   "metadata": {},
   "outputs": [],
   "source": [
    "def get_metrics(df):\n",
    "    logging.info('Total sentences: %s', df.shape[0])\n",
    "    sen_acc = (df['tgt'] == df['pred']).sum()/df.shape[0]\n",
    "    \n",
    "    df = df[df['tgt'].map(lambda x: len(x.split())) == df['pred'].map(lambda x: len(x.split()))]\n",
    "    logging.info('Total predicted sequences without changing len: %s', df.shape[0])\n",
    "    tok_tgt = [tok for doc in df['tgt'] for tok in doc.split()]\n",
    "    tok_pred = [tok for doc in df['pred'] for tok in doc.split()]\n",
    "    sen_tok = (np.array(tok_tgt) == np.array(tok_pred)).sum()/len(tok_tgt)\n",
    "    \n",
    "    return sen_acc, sen_tok"
   ]
  },
  {
   "cell_type": "markdown",
   "metadata": {},
   "source": [
    "# Predict"
   ]
  },
  {
   "cell_type": "code",
   "execution_count": 17,
   "metadata": {},
   "outputs": [],
   "source": [
    "df = pd.read_csv('/source/main/data_for_train/output/my_test.csv')\n",
    "df = df.iloc[:5000, :]"
   ]
  },
  {
   "cell_type": "code",
   "execution_count": 18,
   "metadata": {},
   "outputs": [
    {
     "name": "stderr",
     "output_type": "stream",
     "text": [
      "INFO:root:Duration: 53.54 s\n"
     ]
    }
   ],
   "source": [
    "start = time.time()\n",
    "pred = predict_docs(list(df['src']), batch_size=128)\n",
    "end = time.time()\n",
    "df['pred'] = pred\n",
    "logging.info('Duration: %.2f s' % (end-start))"
   ]
  },
  {
   "cell_type": "code",
   "execution_count": 19,
   "metadata": {},
   "outputs": [
    {
     "name": "stderr",
     "output_type": "stream",
     "text": [
      "INFO:root:Total sentences: 5000\n",
      "INFO:root:Total predicted sequences without changing len: 5\n"
     ]
    },
    {
     "data": {
      "text/plain": [
       "(0.0, 0.0)"
      ]
     },
     "execution_count": 19,
     "metadata": {},
     "output_type": "execute_result"
    }
   ],
   "source": [
    "get_metrics(df)"
   ]
  },
  {
   "cell_type": "code",
   "execution_count": 20,
   "metadata": {},
   "outputs": [
    {
     "data": {
      "text/html": [
       "<div>\n",
       "<style scoped>\n",
       "    .dataframe tbody tr th:only-of-type {\n",
       "        vertical-align: middle;\n",
       "    }\n",
       "\n",
       "    .dataframe tbody tr th {\n",
       "        vertical-align: top;\n",
       "    }\n",
       "\n",
       "    .dataframe thead th {\n",
       "        text-align: right;\n",
       "    }\n",
       "</style>\n",
       "<table border=\"1\" class=\"dataframe\">\n",
       "  <thead>\n",
       "    <tr style=\"text-align: right;\">\n",
       "      <th></th>\n",
       "      <th>tgt</th>\n",
       "      <th>src</th>\n",
       "      <th>pred</th>\n",
       "    </tr>\n",
       "  </thead>\n",
       "  <tbody>\n",
       "    <tr>\n",
       "      <th>0</th>\n",
       "      <td>các học trò của đàm vĩnh hưng , dù có người gọi anh là sư phụ , đại ca hay papa thì đều được vị huấn luyện này chăm cho từng chút , từ việc hướng dẫn thí sinh cách hát và chọn bài , tư vấn cách ăn mặc , giao tiếp , trả lời báo giới , báo giá cát-sê cho đến việc tự tay làm đẹp cho thí sinh .</td>\n",
       "      <td>cac hoc tro cua dam vinh hung , du co nguoi goi anh la su phu , dai ca hay papa thi deu duoc vi huan luyen nay cham cho tung chut , tu viec huong dan thi sinh cach hat va chon bai , tu van cach an mac , giao tiep , tra loi bao gioi , bao gia cat-se cho den viec tu tay lam dep cho thi sinh .</td>\n",
       "      <td>tiffany tiffany quèn tiffany tiffany dnnvv ips tiffany quèn tiffany quèn tiffany ips tiffany dnnvv tiffany tiffany quèn ips ips quèn tiffany tiffany tiffany tiffany quèn quèn quèn dnnvv ips keo ips ips tiffany tiffany quèn tiffany tiffany tiffany tiffany quèn dnnvv ips tiffany ips tiffany t</td>\n",
       "    </tr>\n",
       "    <tr>\n",
       "      <th>1</th>\n",
       "      <td>( tno ) lầu năm góc đang tăng cường hệ thống phòng thủ tên lửa sau những lời đe dọa tấn công hạt nhân từ chdcnd triều tiên và chuẩn bị triển khai numpatt tên lửa đánh chặn ở hai bang alaska và california , theo fox news vào hôm nay , numpatt</td>\n",
       "      <td>( tno ) lau nam goc dang tang cuong he thong phong thu ten lua sau nhung loi de doa tan cong hat nhan tu chdcnd trieu tien va chuan bi trien khai numpatt ten lua danh chan o hai bang alaska va california , theo fox news vao hom nay , numpatt</td>\n",
       "      <td>tiffany quèn tiffany tiffany quèn dnnvv tiffany tiffany quèn tiffany quèn tiffany dnnvv tiffany quèn tiffany quèn quèn quèn quèn tiffany tiffany dnnvv quèn ấp dnnvv tiffany quèn quèn ôm dnnvv tiffany dnnvv tiffany quèn quèn tiffany tiffany q</td>\n",
       "    </tr>\n",
       "    <tr>\n",
       "      <th>2</th>\n",
       "      <td>qua kết quả chụp x-quang , các bác sĩ đã chẩn đoán bệnh nhân bị hội chứng suy hô hấp cấp tính tiến triển , nghi ngờ viêm phổi do cúm a . ngay sau đó , bệnh nhân đã được lấy bệnh phẩm xét nghiệm cúm a/h1n1 , h5n1 và được đưa vào phòng cách ly và tiến hành các biện pháp cấp cứu .</td>\n",
       "      <td>qua ket qua chup x-quang , cac bac si da chan doan benh nhan bi hoi chung suy ho hap cap tinh tien trien , nghi ngo viem phoi do cum a . ngay sau do , benh nhan da duoc lay benh pham xet nghiem cum a/h1n1 , h5n1 va duoc dua vao phong cach ly va tien hanh cac bien phap cap cuu .</td>\n",
       "      <td>tiffany ips quèn tiffany ips quèn tiffany quèn quèn dnnvv tiffany quèn ips quèn soan quèn tiffany tiffany tiffany tiffany quèn quèn tiffany dnnvv tiffany tiffany tiffany tiffany quèn quèn tiffany ips quèn ips ips ips tiffany quèn ôm nhốt keo tiffany tiffany tiffany quèn ips tif</td>\n",
       "    </tr>\n",
       "    <tr>\n",
       "      <th>3</th>\n",
       "      <td>đối với các nhà trường , ban giám hiệu nhất là hiệu trưởng phải thực sự thấy việc tổ chức các buổi sinh hoạt chuyên môn theo nghiên cứu bài học là cần thiết để nâng cao chất lượng giáo dục của nhà trường .</td>\n",
       "      <td>doi voi cac nha truong , ban giam hieu nhat la hieu truong phai thuc su thay viec to chuc cac buoi sinh hoat chuyen mon theo nghien cuu bai hoc la can thiet de nang cao chat luong giao duc cua nha truong .</td>\n",
       "      <td>tiffany tiffany ips tiffany ips khieu dnnvv ips quèn ips tiffany quèn tiffany cpu quèn quèn quèn ips tiffany tiffany tiffany tiffany tiffany quèn cảnh ips dnnvv ips ips tiffany ips tiffany ips quèn mg ips</td>\n",
       "    </tr>\n",
       "    <tr>\n",
       "      <th>4</th>\n",
       "      <td>internet và di động đã thay đổi hoạt động mại dâm tại những nước như ấn độ , khiến cho ngành nghề này ngày càng giống như một `` dịch vụ mà khái niệm `` lao động tình dục '' ( sex worker ) được nhiều nước thừa nhận .</td>\n",
       "      <td>internet va di dong da thay doi hoat dong mai dam tai nhung nuoc nhu an do , khien cho nganh nghe nay ngay cang giong nhu mot `` dich vu ma khai niem `` lao dong tinh duc '' ( sex worker ) duoc nhieu nuoc thua nhan .</td>\n",
       "      <td>quèn tiffany quèn quèn tiffany ips dnnvv múa quèn tiffany ips mg dnnvv keo lẻ quèn ips quèn tiffany ips hũ quèn tiffany quèn ips ips dnnvv ips tiffany ips dnnvv ips tiffany quèn quèn keo quèn tiffany ips tiffany tiff</td>\n",
       "    </tr>\n",
       "  </tbody>\n",
       "</table>\n",
       "</div>"
      ],
      "text/plain": [
       "                                                                                                                                                                                                                                                                                                   tgt  \\\n",
       "0  các học trò của đàm vĩnh hưng , dù có người gọi anh là sư phụ , đại ca hay papa thì đều được vị huấn luyện này chăm cho từng chút , từ việc hướng dẫn thí sinh cách hát và chọn bài , tư vấn cách ăn mặc , giao tiếp , trả lời báo giới , báo giá cát-sê cho đến việc tự tay làm đẹp cho thí sinh .   \n",
       "1  ( tno ) lầu năm góc đang tăng cường hệ thống phòng thủ tên lửa sau những lời đe dọa tấn công hạt nhân từ chdcnd triều tiên và chuẩn bị triển khai numpatt tên lửa đánh chặn ở hai bang alaska và california , theo fox news vào hôm nay , numpatt                                                     \n",
       "2  qua kết quả chụp x-quang , các bác sĩ đã chẩn đoán bệnh nhân bị hội chứng suy hô hấp cấp tính tiến triển , nghi ngờ viêm phổi do cúm a . ngay sau đó , bệnh nhân đã được lấy bệnh phẩm xét nghiệm cúm a/h1n1 , h5n1 và được đưa vào phòng cách ly và tiến hành các biện pháp cấp cứu .                \n",
       "3  đối với các nhà trường , ban giám hiệu nhất là hiệu trưởng phải thực sự thấy việc tổ chức các buổi sinh hoạt chuyên môn theo nghiên cứu bài học là cần thiết để nâng cao chất lượng giáo dục của nhà trường .                                                                                         \n",
       "4  internet và di động đã thay đổi hoạt động mại dâm tại những nước như ấn độ , khiến cho ngành nghề này ngày càng giống như một `` dịch vụ mà khái niệm `` lao động tình dục '' ( sex worker ) được nhiều nước thừa nhận .                                                                              \n",
       "\n",
       "                                                                                                                                                                                                                                                                                                   src  \\\n",
       "0  cac hoc tro cua dam vinh hung , du co nguoi goi anh la su phu , dai ca hay papa thi deu duoc vi huan luyen nay cham cho tung chut , tu viec huong dan thi sinh cach hat va chon bai , tu van cach an mac , giao tiep , tra loi bao gioi , bao gia cat-se cho den viec tu tay lam dep cho thi sinh .   \n",
       "1  ( tno ) lau nam goc dang tang cuong he thong phong thu ten lua sau nhung loi de doa tan cong hat nhan tu chdcnd trieu tien va chuan bi trien khai numpatt ten lua danh chan o hai bang alaska va california , theo fox news vao hom nay , numpatt                                                     \n",
       "2  qua ket qua chup x-quang , cac bac si da chan doan benh nhan bi hoi chung suy ho hap cap tinh tien trien , nghi ngo viem phoi do cum a . ngay sau do , benh nhan da duoc lay benh pham xet nghiem cum a/h1n1 , h5n1 va duoc dua vao phong cach ly va tien hanh cac bien phap cap cuu .                \n",
       "3  doi voi cac nha truong , ban giam hieu nhat la hieu truong phai thuc su thay viec to chuc cac buoi sinh hoat chuyen mon theo nghien cuu bai hoc la can thiet de nang cao chat luong giao duc cua nha truong .                                                                                         \n",
       "4  internet va di dong da thay doi hoat dong mai dam tai nhung nuoc nhu an do , khien cho nganh nghe nay ngay cang giong nhu mot `` dich vu ma khai niem `` lao dong tinh duc '' ( sex worker ) duoc nhieu nuoc thua nhan .                                                                              \n",
       "\n",
       "                                                                                                                                                                                                                                                                                                  pred  \n",
       "0  tiffany tiffany quèn tiffany tiffany dnnvv ips tiffany quèn tiffany quèn tiffany ips tiffany dnnvv tiffany tiffany quèn ips ips quèn tiffany tiffany tiffany tiffany quèn quèn quèn dnnvv ips keo ips ips tiffany tiffany quèn tiffany tiffany tiffany tiffany quèn dnnvv ips tiffany ips tiffany t  \n",
       "1  tiffany quèn tiffany tiffany quèn dnnvv tiffany tiffany quèn tiffany quèn tiffany dnnvv tiffany quèn tiffany quèn quèn quèn quèn tiffany tiffany dnnvv quèn ấp dnnvv tiffany quèn quèn ôm dnnvv tiffany dnnvv tiffany quèn quèn tiffany tiffany q                                                    \n",
       "2  tiffany ips quèn tiffany ips quèn tiffany quèn quèn dnnvv tiffany quèn ips quèn soan quèn tiffany tiffany tiffany tiffany quèn quèn tiffany dnnvv tiffany tiffany tiffany tiffany quèn quèn tiffany ips quèn ips ips ips tiffany quèn ôm nhốt keo tiffany tiffany tiffany quèn ips tif               \n",
       "3  tiffany tiffany ips tiffany ips khieu dnnvv ips quèn ips tiffany quèn tiffany cpu quèn quèn quèn ips tiffany tiffany tiffany tiffany tiffany quèn cảnh ips dnnvv ips ips tiffany ips tiffany ips quèn mg ips                                                                                         \n",
       "4  quèn tiffany quèn quèn tiffany ips dnnvv múa quèn tiffany ips mg dnnvv keo lẻ quèn ips quèn tiffany ips hũ quèn tiffany quèn ips ips dnnvv ips tiffany ips dnnvv ips tiffany quèn quèn keo quèn tiffany ips tiffany tiff                                                                             "
      ]
     },
     "execution_count": 20,
     "metadata": {},
     "output_type": "execute_result"
    }
   ],
   "source": [
    "df.head()"
   ]
  },
  {
   "cell_type": "code",
   "execution_count": null,
   "metadata": {},
   "outputs": [],
   "source": []
  }
 ],
 "metadata": {
  "kernelspec": {
   "display_name": "Python 3",
   "language": "python",
   "name": "python3"
  },
  "language_info": {
   "codemirror_mode": {
    "name": "ipython",
    "version": 3
   },
   "file_extension": ".py",
   "mimetype": "text/x-python",
   "name": "python",
   "nbconvert_exporter": "python",
   "pygments_lexer": "ipython3",
   "version": "3.6.8"
  }
 },
 "nbformat": 4,
 "nbformat_minor": 2
}
