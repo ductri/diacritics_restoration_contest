{
 "cells": [
  {
   "cell_type": "code",
   "execution_count": 1,
   "metadata": {
    "colab": {},
    "colab_type": "code",
    "id": "gdklphBbU9AK"
   },
   "outputs": [],
   "source": [
    "import sys\n",
    "sys.path.append('/source/main')"
   ]
  },
  {
   "cell_type": "code",
   "execution_count": 2,
   "metadata": {
    "colab": {},
    "colab_type": "code",
    "id": "vscJie6oU9Ab"
   },
   "outputs": [],
   "source": [
    "import logging\n",
    "logging.basicConfig(level=logging.INFO)\n",
    "import time\n",
    "from itertools import chain\n",
    "\n",
    "import torch\n",
    "from torch import nn\n",
    "import numpy as np\n",
    "import pandas as pd\n",
    "pd.set_option('display.max_colwidth', -1)\n",
    "\n",
    "from preprocess import preprocessor\n",
    "from model_def.seq2seq_beamsearch_attn_with_src import Seq2SeqBeamAttnWithSrc\n",
    "from utils import pytorch_utils, text_utils\n",
    "from data_for_train import dataset as my_dataset\n",
    "from train import trainer"
   ]
  },
  {
   "cell_type": "markdown",
   "metadata": {
    "colab_type": "text",
    "id": "8h0ekwp_Vap1"
   },
   "source": [
    "# Setup and load model"
   ]
  },
  {
   "cell_type": "code",
   "execution_count": 3,
   "metadata": {
    "colab": {
     "base_uri": "https://localhost:8080/",
     "height": 86
    },
    "colab_type": "code",
    "executionInfo": {
     "elapsed": 8720,
     "status": "ok",
     "timestamp": 1559644899381,
     "user": {
      "displayName": "Tri Nguyen Duc",
      "photoUrl": "",
      "userId": "07671390057893090774"
     },
     "user_tz": -420
    },
    "id": "69__hBkQU9Aj",
    "outputId": "802df8fe-3375-4bc1-85bf-2f2aebd1eb54"
   },
   "outputs": [
    {
     "name": "stderr",
     "output_type": "stream",
     "text": [
      "INFO:root:Indexing vocabs successfully. Total vocabs: 25390\n",
      "INFO:root:Indexing vocabs successfully. Total vocabs: 50437\n",
      "INFO:root:Vocab for source from file /source/main/vocab/output/src.pkl contains 25390 tokens\n",
      "INFO:root:Vocab for source from file /source/main/vocab/output/tgt.pkl contains 50437 tokens\n"
     ]
    }
   ],
   "source": [
    "my_dataset.bootstrap()"
   ]
  },
  {
   "cell_type": "code",
   "execution_count": 5,
   "metadata": {},
   "outputs": [
    {
     "data": {
      "text/plain": [
       "'__p__'"
      ]
     },
     "execution_count": 5,
     "metadata": {},
     "output_type": "execute_result"
    }
   ],
   "source": [
    "my_dataset.voc_tgt.index2word[0]"
   ]
  },
  {
   "cell_type": "code",
   "execution_count": 4,
   "metadata": {
    "colab": {
     "base_uri": "https://localhost:8080/",
     "height": 697
    },
    "colab_type": "code",
    "executionInfo": {
     "elapsed": 12967,
     "status": "ok",
     "timestamp": 1559644904133,
     "user": {
      "displayName": "Tri Nguyen Duc",
      "photoUrl": "",
      "userId": "07671390057893090774"
     },
     "user_tz": -420
    },
    "id": "qiV1t6tdU9A0",
    "outputId": "31e470fe-ad17-4ba7-a5af-7c6b70b510d3"
   },
   "outputs": [
    {
     "name": "stderr",
     "output_type": "stream",
     "text": [
      "INFO:root:Load pre-trained model from /source/main/train/output/saved_models/Seq2SeqAttnWithSrc/2019-06-01T16:23:45/470000.pt successfully\n",
      "INFO:root:Model architecture: \n",
      "Seq2SeqBeamAttnWithSrc(\n",
      "  (encoder): Encoder(\n",
      "    (embedding): Embedding(25390, 256)\n",
      "    (lstm): LSTM(256, 512, num_layers=3, dropout=0.3, bidirectional=True)\n",
      "    (dropout): Dropout(p=0.3)\n",
      "  )\n",
      "  (flatten_hidden_lstm): FlattenHiddenLSTM()\n",
      "  (core_decoder): AttnRawDecoderWithSrc(\n",
      "    (dec_embedding): Embedding(50437, 256)\n",
      "    (lstm): LSTM(512, 512, num_layers=3, dropout=0.3)\n",
      "    (attention): Attention(\n",
      "      (scoring): Linear(in_features=512, out_features=1024, bias=True)\n",
      "      (softmax): Softmax()\n",
      "    )\n",
      "    (shrink_mapping): Linear(in_features=1536, out_features=512, bias=True)\n",
      "    (output_mapping): Linear(in_features=512, out_features=50437, bias=True)\n",
      "    (dropout): Dropout(p=0.3)\n",
      "  )\n",
      "  (infer_module): BeamSearchWithSrcInfer(\n",
      "    (core_decoder): AttnRawDecoderWithSrc(\n",
      "      (dec_embedding): Embedding(50437, 256)\n",
      "      (lstm): LSTM(512, 512, num_layers=3, dropout=0.3)\n",
      "      (attention): Attention(\n",
      "        (scoring): Linear(in_features=512, out_features=1024, bias=True)\n",
      "        (softmax): Softmax()\n",
      "      )\n",
      "      (shrink_mapping): Linear(in_features=1536, out_features=512, bias=True)\n",
      "      (output_mapping): Linear(in_features=512, out_features=50437, bias=True)\n",
      "      (dropout): Dropout(p=0.3)\n",
      "    )\n",
      "    (softmax2): Softmax()\n",
      "    (softmax1): Softmax()\n",
      "  )\n",
      "  (xent): CrossEntropyLoss()\n",
      ")\n",
      "INFO:root:Total trainable parameters: 68655109\n"
     ]
    }
   ],
   "source": [
    "device = torch.device(\"cuda\" if torch.cuda.is_available() else \"cpu\")\n",
    "model = Seq2SeqBeamAttnWithSrc(src_vocab_size=len(my_dataset.voc_src.index2word),\n",
    "                    tgt_vocab_size=len(my_dataset.voc_tgt.index2word),\n",
    "                    start_idx=2,\n",
    "                    end_idx=3, beam_width=1, device=device\n",
    "                    )\n",
    "model.to(device)\n",
    "PRE_TRAINED_MODEL='/source/main/train/output/saved_models/Seq2SeqAttnWithSrc/2019-06-01T16:23:45/470000.pt'\n",
    "checkpoint = torch.load(PRE_TRAINED_MODEL, map_location=device)\n",
    "model.load_state_dict(checkpoint['model_state_dict'], strict=False)\n",
    "logging.info('Load pre-trained model from %s successfully', PRE_TRAINED_MODEL)\n",
    "\n",
    "model.eval()\n",
    "logging.info('Model architecture: \\n%s', model)\n",
    "logging.info('Total trainable parameters: %s', pytorch_utils.count_parameters(model))"
   ]
  },
  {
   "cell_type": "code",
   "execution_count": null,
   "metadata": {
    "colab": {},
    "colab_type": "code",
    "id": "FC2HZXZaU9A9"
   },
   "outputs": [],
   "source": []
  },
  {
   "cell_type": "code",
   "execution_count": 5,
   "metadata": {
    "colab": {},
    "colab_type": "code",
    "id": "GJNo9dSfU9BC"
   },
   "outputs": [],
   "source": [
    "def docs2input_tensors(preprocessed_docs, device):\n",
    "    word_input = my_dataset.voc_src.docs2idx(preprocessed_docs, equal_length=MAX_LEN)\n",
    "    word_input = np.array(word_input)\n",
    "    word_input = torch.from_numpy(word_input)\n",
    "    word_input = word_input.to(device)\n",
    "    return word_input\n",
    "\n",
    "def replace_unk_tok(pred, src):\n",
    "    pred = [p if p != '__o__' else s for p, s in zip(pred.split(), src.split())]\n",
    "    return ' '.join(pred)\n",
    "\n",
    "def predict_batch(docs):\n",
    "    docs = preprocessor.infer_preprocess(docs, max_length=MAX_LEN)\n",
    "    input_tensors = docs2input_tensors(docs, device)\n",
    "    predict_tensor = model(input_tensors)\n",
    "    predict_numpy = predict_tensor.cpu().numpy()\n",
    "    \n",
    "    translated_docs = my_dataset.voc_tgt.idx2docs(predict_numpy)\n",
    "    translated_docs = [' '.join(pred_doc.split()[:len(src_doc.split())]) \n",
    "                       for src_doc, pred_doc in zip(docs, translated_docs)]\n",
    "    translated_docs = [replace_unk_tok(pred, src) for pred, src in zip(translated_docs, docs)]\n",
    "    return translated_docs\n",
    "\n",
    "def predict_docs(docs, batch_size):\n",
    "    return list(chain(*[predict_batch(docs[i: i+batch_size]) for i in range(0, len(docs), batch_size)]))\n"
   ]
  },
  {
   "cell_type": "code",
   "execution_count": 6,
   "metadata": {
    "colab": {},
    "colab_type": "code",
    "id": "t8nzk33zU9BL"
   },
   "outputs": [
    {
     "data": {
      "text/plain": [
       "['tôi muốn đăng ký thẻ ATM', 'tôi đi học']"
      ]
     },
     "execution_count": 6,
     "metadata": {},
     "output_type": "execute_result"
    }
   ],
   "source": [
    "MAX_LEN = 200\n",
    "# import pdb; pdb.set_trace()\n",
    "predict_docs(['toi muon dang ky the ATM', 'toi di hoc'], batch_size=10)"
   ]
  },
  {
   "cell_type": "code",
   "execution_count": null,
   "metadata": {},
   "outputs": [],
   "source": []
  },
  {
   "cell_type": "code",
   "execution_count": null,
   "metadata": {},
   "outputs": [],
   "source": []
  },
  {
   "cell_type": "code",
   "execution_count": 7,
   "metadata": {
    "colab": {},
    "colab_type": "code",
    "id": "3oTk8d4qU9BU"
   },
   "outputs": [],
   "source": [
    "def get_metrics(df):\n",
    "    logging.info('Total sentences: %s', df.shape[0])\n",
    "    sen_acc = (df['tgt'] == df['pred']).sum()/df.shape[0]\n",
    "    \n",
    "    df = df[df['tgt'].map(lambda x: len(x.split())) == df['pred'].map(lambda x: len(x.split()))]\n",
    "    logging.info('Total predicted sequences without changing len: %s', df.shape[0])\n",
    "    tok_tgt = [tok for doc in df['tgt'] for tok in doc.split()]\n",
    "    tok_pred = [tok for doc in df['pred'] for tok in doc.split()]\n",
    "    sen_tok = (np.array(tok_tgt) == np.array(tok_pred)).sum()/len(tok_tgt)\n",
    "    \n",
    "    return sen_acc, sen_tok"
   ]
  },
  {
   "cell_type": "markdown",
   "metadata": {
    "colab_type": "text",
    "id": "mmUk0RjbU9Bi"
   },
   "source": [
    "# Predict"
   ]
  },
  {
   "cell_type": "code",
   "execution_count": 8,
   "metadata": {
    "colab": {},
    "colab_type": "code",
    "id": "5ba0p1uIU9Bl"
   },
   "outputs": [],
   "source": [
    "df = pd.read_csv('/source/main/data_for_train/output/my_test.csv')"
   ]
  },
  {
   "cell_type": "code",
   "execution_count": 9,
   "metadata": {
    "colab": {
     "base_uri": "https://localhost:8080/",
     "height": 34
    },
    "colab_type": "code",
    "executionInfo": {
     "elapsed": 98731,
     "status": "ok",
     "timestamp": 1559545492630,
     "user": {
      "displayName": "Tri Nguyen Duc",
      "photoUrl": "",
      "userId": "07671390057893090774"
     },
     "user_tz": -420
    },
    "id": "sRBVboKtU9Bz",
    "outputId": "e4867856-74db-450f-cb58-eb23566ba7ed"
   },
   "outputs": [
    {
     "name": "stderr",
     "output_type": "stream",
     "text": [
      "INFO:root:Duration: 44.73 s\n"
     ]
    }
   ],
   "source": [
    "start = time.time()\n",
    "pred = predict_docs(list(df['src']), batch_size=128)\n",
    "end = time.time()\n",
    "df['pred'] = pred\n",
    "logging.info('Duration: %.2f s' % (end-start))"
   ]
  },
  {
   "cell_type": "code",
   "execution_count": 10,
   "metadata": {
    "colab": {
     "base_uri": "https://localhost:8080/",
     "height": 69
    },
    "colab_type": "code",
    "executionInfo": {
     "elapsed": 1068,
     "status": "ok",
     "timestamp": 1559545508900,
     "user": {
      "displayName": "Tri Nguyen Duc",
      "photoUrl": "",
      "userId": "07671390057893090774"
     },
     "user_tz": -420
    },
    "id": "RAVAVztIU9B9",
    "outputId": "9eea723f-2420-4256-a25a-b9e0d81975c1"
   },
   "outputs": [
    {
     "name": "stderr",
     "output_type": "stream",
     "text": [
      "INFO:root:Total sentences: 5000\n",
      "INFO:root:Total predicted sequences without changing len: 5000\n"
     ]
    },
    {
     "data": {
      "text/plain": [
       "(0.3612, 0.9710605570107027)"
      ]
     },
     "execution_count": 10,
     "metadata": {},
     "output_type": "execute_result"
    }
   ],
   "source": [
    "get_metrics(df)"
   ]
  },
  {
   "cell_type": "markdown",
   "metadata": {
    "colab_type": "text",
    "id": "b0Fr5OFkYYbm"
   },
   "source": [
    "- Baseline/2019-05-04T01:16:45:\n",
    "  + 150k: 0.383, 0.9732856714953901\n",
    "  + 180k: 0.3934, 0.9739834829348896\n",
    "  + 120k (version on gpu): 0.3726, 0.9717781354609999\n",
    "- SimpleButHuge/2019-05-04T01:40:37:\n",
    "  + 80k: 0.3714, 0.9716497644886392\n",
    "  + 150k: 0.4134, 0.9751091976155914\n",
    "  \n",
    "- Seq2SeqAttn:\n",
    "  + (0.0222, 0.7263146191602002)\n",
    "  \n",
    "- Seq2SeqAttnWithSrc:\n",
    "  + Step 320k: (0.3524, 0.9709428372426107)\n",
    "  + Step 320k: (0.3296, 0.9689187112301388)\n",
    "  + Step 470k: (0.3612, 0.9710605570107027)  - test: 0.97119"
   ]
  },
  {
   "cell_type": "code",
   "execution_count": null,
   "metadata": {
    "colab": {},
    "colab_type": "code",
    "id": "2QsM__iwa5Fv"
   },
   "outputs": [],
   "source": [
    "tgt = [text_utils.process_line(doc) for doc in df['tgt']]\n",
    "tgt = list(zip(*tgt))[1]\n",
    "# tgt = list(chain(*tgt))\n",
    "pred = [text_utils.process_line(doc) for doc in df['pred']]\n",
    "pred = list(zip(*pred))[1]\n",
    "# pred = list(chain(*pred))"
   ]
  },
  {
   "cell_type": "code",
   "execution_count": null,
   "metadata": {
    "colab": {},
    "colab_type": "code",
    "id": "4Z0rW1cAaZKE"
   },
   "outputs": [],
   "source": [
    "df['tgt_'] = tgt\n",
    "df['pred_'] = pred"
   ]
  },
  {
   "cell_type": "code",
   "execution_count": null,
   "metadata": {
    "colab": {},
    "colab_type": "code",
    "id": "IDTGqmARaZKL"
   },
   "outputs": [],
   "source": [
    "df[df['tgt_'].map(len) != df['pred_'].map(len)].shape"
   ]
  },
  {
   "cell_type": "code",
   "execution_count": null,
   "metadata": {
    "colab": {},
    "colab_type": "code",
    "id": "BvxjxktkaZKT"
   },
   "outputs": [],
   "source": [
    "df_ = df[df['tgt_'].map(len) == df['pred_'].map(len)]"
   ]
  },
  {
   "cell_type": "code",
   "execution_count": null,
   "metadata": {
    "colab": {},
    "colab_type": "code",
    "id": "0JLwYHdoaZKa"
   },
   "outputs": [],
   "source": [
    "tgt = list(chain(*df_['tgt_']))\n",
    "pred = list(chain(*df_['pred_']))"
   ]
  },
  {
   "cell_type": "code",
   "execution_count": null,
   "metadata": {
    "colab": {},
    "colab_type": "code",
    "id": "Ga6flaMCaZKh"
   },
   "outputs": [],
   "source": [
    "len(tgt)"
   ]
  },
  {
   "cell_type": "code",
   "execution_count": null,
   "metadata": {
    "colab": {},
    "colab_type": "code",
    "id": "taobXy3iaZKo"
   },
   "outputs": [],
   "source": [
    "len(pred)"
   ]
  },
  {
   "cell_type": "code",
   "execution_count": null,
   "metadata": {
    "colab": {},
    "colab_type": "code",
    "id": "y5vmVTLHaZKu"
   },
   "outputs": [],
   "source": [
    "(np.array(tgt) == np.array(pred)).sum()/len(tgt)"
   ]
  },
  {
   "cell_type": "markdown",
   "metadata": {
    "colab_type": "text",
    "id": "cY_Y4C8QaZK8"
   },
   "source": [
    "- SimpleButHuge/2019-05-04T01:40:37:\n",
    " + 470k: 0.9750297875460562"
   ]
  },
  {
   "cell_type": "markdown",
   "metadata": {
    "colab_type": "text",
    "id": "od3Id9dIaZK9"
   },
   "source": [
    "# Predict to summit"
   ]
  },
  {
   "cell_type": "code",
   "execution_count": null,
   "metadata": {
    "colab": {},
    "colab_type": "code",
    "id": "ZyBVqa8EaZK_"
   },
   "outputs": [],
   "source": []
  },
  {
   "cell_type": "code",
   "execution_count": 30,
   "metadata": {
    "colab": {},
    "colab_type": "code",
    "id": "LJJYOLJNaZLE"
   },
   "outputs": [],
   "source": [
    "with open('/dataset/vietnamese_tone_prediction/test.txt', 'rt', encoding='utf-8') as i_f:\n",
    "    lines = i_f.readlines()\n",
    "lines = [l[:-1] for l in lines]\n",
    "lines = [(l[:3], l[4:]) for l in lines]\n",
    "df_submit = pd.DataFrame(lines)"
   ]
  },
  {
   "cell_type": "code",
   "execution_count": 31,
   "metadata": {
    "colab": {},
    "colab_type": "code",
    "id": "zXzRKBEH160v"
   },
   "outputs": [],
   "source": [
    "\n",
    "df_submit['len'] = df_submit[1].map(lambda x: len(x.split()))"
   ]
  },
  {
   "cell_type": "code",
   "execution_count": 32,
   "metadata": {
    "colab": {
     "base_uri": "https://localhost:8080/",
     "height": 173
    },
    "colab_type": "code",
    "executionInfo": {
     "elapsed": 1884,
     "status": "ok",
     "timestamp": 1559545668308,
     "user": {
      "displayName": "Tri Nguyen Duc",
      "photoUrl": "",
      "userId": "07671390057893090774"
     },
     "user_tz": -420
    },
    "id": "SDWIsT7513-x",
    "outputId": "72a91204-c1b5-4e3f-f05d-ebd7f32d0fd4"
   },
   "outputs": [
    {
     "data": {
      "text/plain": [
       "count    8240.000000\n",
       "mean     55.138592  \n",
       "std      12.340192  \n",
       "min      2.000000   \n",
       "25%      47.000000  \n",
       "50%      53.000000  \n",
       "75%      62.000000  \n",
       "max      173.000000 \n",
       "Name: len, dtype: float64"
      ]
     },
     "execution_count": 32,
     "metadata": {},
     "output_type": "execute_result"
    }
   ],
   "source": [
    "df_submit['len'].describe()"
   ]
  },
  {
   "cell_type": "code",
   "execution_count": 33,
   "metadata": {
    "colab": {},
    "colab_type": "code",
    "id": "5vc4H9czaZLI"
   },
   "outputs": [],
   "source": [
    "df_submit['pred'] = predict_docs(list(df_submit[1]), batch_size=128)"
   ]
  },
  {
   "cell_type": "code",
   "execution_count": 34,
   "metadata": {
    "colab": {
     "base_uri": "https://localhost:8080/",
     "height": 640
    },
    "colab_type": "code",
    "executionInfo": {
     "elapsed": 161528,
     "status": "ok",
     "timestamp": 1559545828244,
     "user": {
      "displayName": "Tri Nguyen Duc",
      "photoUrl": "",
      "userId": "07671390057893090774"
     },
     "user_tz": -420
    },
    "id": "ffrZ9xOo5tDu",
    "outputId": "cbc79972-f462-4709-9851-ec5c81bc7684"
   },
   "outputs": [
    {
     "data": {
      "text/html": [
       "<div>\n",
       "<style scoped>\n",
       "    .dataframe tbody tr th:only-of-type {\n",
       "        vertical-align: middle;\n",
       "    }\n",
       "\n",
       "    .dataframe tbody tr th {\n",
       "        vertical-align: top;\n",
       "    }\n",
       "\n",
       "    .dataframe thead th {\n",
       "        text-align: right;\n",
       "    }\n",
       "</style>\n",
       "<table border=\"1\" class=\"dataframe\">\n",
       "  <thead>\n",
       "    <tr style=\"text-align: right;\">\n",
       "      <th></th>\n",
       "      <th>0</th>\n",
       "      <th>1</th>\n",
       "      <th>len</th>\n",
       "      <th>pred</th>\n",
       "    </tr>\n",
       "  </thead>\n",
       "  <tbody>\n",
       "    <tr>\n",
       "      <th>0</th>\n",
       "      <td>axS</td>\n",
       "      <td>Trung Quoc da mo rong anh huong cua ho trong khu vuc thong qua cac buoc leo thang ep buoc cac nuoc lang gieng o Hoa Dong, Bien Dong, boi dap dao nhan tao va quan su hoa cac cau truc dia ly tren Bien Dong trai luat phap quoc te; Tim cach chia re Hoa Ky khoi cac dong minh chau A thong qua cac no luc ep buoc va leo lai kinh te.</td>\n",
       "      <td>75</td>\n",
       "      <td>Trung Quốc đã mở rộng ảnh hưởng của họ trong khu vực thông qua các bước leo thang ép buộc các nước láng giềng ở Hoa Đông , Biển Đông , bởi đập đảo nhân tạo và quân sự hóa các cấu trúc địa lý trên Biển Đông trái luật pháp quốc tế ; Tìm cách chia rẽ Hoa Kỳ khỏi các đồng minh châu Á thông qua các nỗ lực ép buộc và lèo lái kinh tế .</td>\n",
       "    </tr>\n",
       "    <tr>\n",
       "      <th>1</th>\n",
       "      <td>fqk</td>\n",
       "      <td>De san xuat nuoc hoa gia cac thuong hieu noi tieng, doi tuong Tu Anh da mua cac hoa chat co nguon goc tu Trung Quoc ve de u lam tang do thom roi dung cac may moc dong goi, mua vo, nhan hieu cua cac thuong hieu noi tieng de dan len, sau do dua ra thi truong tieu thu.</td>\n",
       "      <td>61</td>\n",
       "      <td>Để sản xuất nước hoa giả các thương hiệu nổi tiếng , đối tượng Tú Anh đã mua các hóa chất có nguồn gốc từ Trung Quốc về để ủ làm tăng độ thơm rồi dùng các máy móc đóng gói , mua vỏ , nhãn hiệu của các thương hiệu nổi tiếng để đan lên , sau đó đưa ra thị trường tiêu thụ .</td>\n",
       "    </tr>\n",
       "    <tr>\n",
       "      <th>2</th>\n",
       "      <td>yFK</td>\n",
       "      <td>Tuy nhien, tren thuc te, moi nguoi deu hieu rang, viec cuoc cai to noi cac lan nay cua ba May la mot canh bac nham xac dinh va ap dat quyen luc lanh dao cua ba doi voi nhung thanh vien noi cac, trong do co nhung nguoi da the hien bat dong chinh kien voi ba trong van de Brexit va mot so van de khac ve chinh tri, kinh te, xa hoi.</td>\n",
       "      <td>75</td>\n",
       "      <td>Tuy nhiên , trên thực tế , mọi người đều hiểu rằng , việc cuộc cải tổ nội các lần này của bà May là một canh bạc nhằm xác định và áp đặt quyền lực lãnh đạo của ba đối với những thành viên nội các , trong đó có những người đã thể hiện bất đồng chính kiến với ba trong vấn đề Brexit và một số vấn đề khác về chính trị , kinh tế , xã hội .</td>\n",
       "    </tr>\n",
       "    <tr>\n",
       "      <th>3</th>\n",
       "      <td>gdm</td>\n",
       "      <td>Nguyen Xuan Hai, tinh phuc tap trong viec huy dong von cho dau tu ha tang khong chi dung o viec chon mot co che tai chinh hop ly, ma con o viec tan dung cac co che khac nhau tai cac thoi diem khac nhau cho moi du an.</td>\n",
       "      <td>50</td>\n",
       "      <td>Nguyễn Xuân Hải , tính phức tạp trong việc huy động vốn cho đầu tư hạ tầng không chỉ dừng ở việc chọn một cơ chế tài chính hợp lý , mà còn ở việc tận dụng các cơ chế khác nhau tại các thời điểm khác nhau cho mọi dự án .</td>\n",
       "    </tr>\n",
       "    <tr>\n",
       "      <th>4</th>\n",
       "      <td>Pmo</td>\n",
       "      <td>Anh: Goal Bayern san hang noi dia de chia lua cho Lewandowski: HLV Jupp Heynckes thua nhan ban lanh dao Bayern Munich da bat dau xuc tien ke hoach chieu mo tien dao nguoi Duc dang choi cho Hoffenheim, Sandro Wagner.</td>\n",
       "      <td>41</td>\n",
       "      <td>Ảnh : Goal Bayern săn hạng nội địa để chia lửa cho Lewandowski : HLV Jupp Heynckes thừa nhận ban lãnh đạo Bayern Munich đã bắt đầu xúc tiến kế hoạch chiêu mộ tiền đạo người Đức đang chơi cho Hoffenheim , Sandro Wagner .</td>\n",
       "    </tr>\n",
       "  </tbody>\n",
       "</table>\n",
       "</div>"
      ],
      "text/plain": [
       "     0  \\\n",
       "0  axS   \n",
       "1  fqk   \n",
       "2  yFK   \n",
       "3  gdm   \n",
       "4  Pmo   \n",
       "\n",
       "                                                                                                                                                                                                                                                                                                                                           1  \\\n",
       "0  Trung Quoc da mo rong anh huong cua ho trong khu vuc thong qua cac buoc leo thang ep buoc cac nuoc lang gieng o Hoa Dong, Bien Dong, boi dap dao nhan tao va quan su hoa cac cau truc dia ly tren Bien Dong trai luat phap quoc te; Tim cach chia re Hoa Ky khoi cac dong minh chau A thong qua cac no luc ep buoc va leo lai kinh te.      \n",
       "1  De san xuat nuoc hoa gia cac thuong hieu noi tieng, doi tuong Tu Anh da mua cac hoa chat co nguon goc tu Trung Quoc ve de u lam tang do thom roi dung cac may moc dong goi, mua vo, nhan hieu cua cac thuong hieu noi tieng de dan len, sau do dua ra thi truong tieu thu.                                                                  \n",
       "2  Tuy nhien, tren thuc te, moi nguoi deu hieu rang, viec cuoc cai to noi cac lan nay cua ba May la mot canh bac nham xac dinh va ap dat quyen luc lanh dao cua ba doi voi nhung thanh vien noi cac, trong do co nhung nguoi da the hien bat dong chinh kien voi ba trong van de Brexit va mot so van de khac ve chinh tri, kinh te, xa hoi.   \n",
       "3  Nguyen Xuan Hai, tinh phuc tap trong viec huy dong von cho dau tu ha tang khong chi dung o viec chon mot co che tai chinh hop ly, ma con o viec tan dung cac co che khac nhau tai cac thoi diem khac nhau cho moi du an.                                                                                                                    \n",
       "4  Anh: Goal Bayern san hang noi dia de chia lua cho Lewandowski: HLV Jupp Heynckes thua nhan ban lanh dao Bayern Munich da bat dau xuc tien ke hoach chieu mo tien dao nguoi Duc dang choi cho Hoffenheim, Sandro Wagner.                                                                                                                     \n",
       "\n",
       "   len  \\\n",
       "0  75    \n",
       "1  61    \n",
       "2  75    \n",
       "3  50    \n",
       "4  41    \n",
       "\n",
       "                                                                                                                                                                                                                                                                                                                                               pred  \n",
       "0  Trung Quốc đã mở rộng ảnh hưởng của họ trong khu vực thông qua các bước leo thang ép buộc các nước láng giềng ở Hoa Đông , Biển Đông , bởi đập đảo nhân tạo và quân sự hóa các cấu trúc địa lý trên Biển Đông trái luật pháp quốc tế ; Tìm cách chia rẽ Hoa Kỳ khỏi các đồng minh châu Á thông qua các nỗ lực ép buộc và lèo lái kinh tế .        \n",
       "1  Để sản xuất nước hoa giả các thương hiệu nổi tiếng , đối tượng Tú Anh đã mua các hóa chất có nguồn gốc từ Trung Quốc về để ủ làm tăng độ thơm rồi dùng các máy móc đóng gói , mua vỏ , nhãn hiệu của các thương hiệu nổi tiếng để đan lên , sau đó đưa ra thị trường tiêu thụ .                                                                   \n",
       "2  Tuy nhiên , trên thực tế , mọi người đều hiểu rằng , việc cuộc cải tổ nội các lần này của bà May là một canh bạc nhằm xác định và áp đặt quyền lực lãnh đạo của ba đối với những thành viên nội các , trong đó có những người đã thể hiện bất đồng chính kiến với ba trong vấn đề Brexit và một số vấn đề khác về chính trị , kinh tế , xã hội .  \n",
       "3  Nguyễn Xuân Hải , tính phức tạp trong việc huy động vốn cho đầu tư hạ tầng không chỉ dừng ở việc chọn một cơ chế tài chính hợp lý , mà còn ở việc tận dụng các cơ chế khác nhau tại các thời điểm khác nhau cho mọi dự án .                                                                                                                       \n",
       "4  Ảnh : Goal Bayern săn hạng nội địa để chia lửa cho Lewandowski : HLV Jupp Heynckes thừa nhận ban lãnh đạo Bayern Munich đã bắt đầu xúc tiến kế hoạch chiêu mộ tiền đạo người Đức đang chơi cho Hoffenheim , Sandro Wagner .                                                                                                                       "
      ]
     },
     "execution_count": 34,
     "metadata": {},
     "output_type": "execute_result"
    }
   ],
   "source": [
    "df_submit.head()"
   ]
  },
  {
   "cell_type": "code",
   "execution_count": 35,
   "metadata": {
    "colab": {},
    "colab_type": "code",
    "id": "BAD6g4MVMeEZ"
   },
   "outputs": [],
   "source": [
    "# df_submit.loc[967, 'pred'] = 'Nếu fan của thể loại nhạc không lời đậm chất sự thì thì chắc chắn ai cũng sẽ biết tới Two Steps from Hell công ty chuyển sang tác nhạc cho trailer phim , đã góp phần thành công cho nhiều bom tấn như : series Harry Potter , The Dark Knight , Rise of the Planet of the Apes , Trộn : Time , Wall-E . . . Cùng với đó , không thể không nhắc đến sự góp mặt của x - ca sĩ nổi tiếng người Mỹ .'\n",
    "# df_submit.loc[526, 'pred'] = 'Tiếp tục triển khai cấp kè trên toàn thành phố , trong đó chú trọng hoạt động cấp lưu động cho nhân dân tại nhà , trường học và các khu dân cư ; phối hợp bưu điện trả x theo địa chỉ nhân dân yêu cầu , giảm thời gian đi lại của người dân .'"
   ]
  },
  {
   "cell_type": "code",
   "execution_count": 36,
   "metadata": {
    "colab": {},
    "colab_type": "code",
    "id": "QziHDfUKaZLT"
   },
   "outputs": [],
   "source": [
    "with open('/source/main/data_download/output/test_pred.txt', 'wt', encoding='utf-8') as o_f:\n",
    "    o_f.writelines(['%s,%s\\n' % (id_doc, doc) for id_doc, doc in zip(df_submit[0], df_submit['pred'])])"
   ]
  },
  {
   "cell_type": "code",
   "execution_count": 37,
   "metadata": {
    "colab": {},
    "colab_type": "code",
    "id": "EfCDkUxiaZLY"
   },
   "outputs": [],
   "source": [
    "text_utils.decompose_predicted_test_file('/source/main/data_download/output/test_pred.txt')"
   ]
  },
  {
   "cell_type": "code",
   "execution_count": 38,
   "metadata": {
    "colab": {},
    "colab_type": "code",
    "id": "7IKi05z95iaw"
   },
   "outputs": [],
   "source": [
    "df1 = pd.read_csv('/dataset/vietnamese_tone_prediction/test_word_per_line.txt')"
   ]
  },
  {
   "cell_type": "code",
   "execution_count": 39,
   "metadata": {
    "colab": {},
    "colab_type": "code",
    "id": "L2cxzTo-7N9O"
   },
   "outputs": [],
   "source": [
    "df2 = pd.read_csv('/source/main/data_download/output/test_pred_no_tone.csv')"
   ]
  },
  {
   "cell_type": "code",
   "execution_count": 40,
   "metadata": {
    "colab": {
     "base_uri": "https://localhost:8080/",
     "height": 34
    },
    "colab_type": "code",
    "executionInfo": {
     "elapsed": 4447,
     "status": "ok",
     "timestamp": 1559546343312,
     "user": {
      "displayName": "Tri Nguyen Duc",
      "photoUrl": "",
      "userId": "07671390057893090774"
     },
     "user_tz": -420
    },
    "id": "Amvvv7nt7Sll",
    "outputId": "a840e691-a0c6-43f6-d6ff-77af6cde0f1d"
   },
   "outputs": [
    {
     "data": {
      "text/plain": [
       "set()"
      ]
     },
     "execution_count": 40,
     "metadata": {},
     "output_type": "execute_result"
    }
   ],
   "source": [
    "set(df1['id'])^set(df2['id'])"
   ]
  },
  {
   "cell_type": "code",
   "execution_count": null,
   "metadata": {
    "colab": {
     "base_uri": "https://localhost:8080/",
     "height": 34
    },
    "colab_type": "code",
    "executionInfo": {
     "elapsed": 165659,
     "status": "ok",
     "timestamp": 1559545836434,
     "user": {
      "displayName": "Tri Nguyen Duc",
      "photoUrl": "",
      "userId": "07671390057893090774"
     },
     "user_tz": -420
    },
    "id": "H0roxOQJMTZL",
    "outputId": "2a54a7ec-6a40-40d6-9358-b772f8f4417d"
   },
   "outputs": [],
   "source": [
    "set(df2['id'])^set(df1['id'])"
   ]
  },
  {
   "cell_type": "code",
   "execution_count": null,
   "metadata": {
    "colab": {
     "base_uri": "https://localhost:8080/",
     "height": 54
    },
    "colab_type": "code",
    "executionInfo": {
     "elapsed": 698,
     "status": "ok",
     "timestamp": 1559494078110,
     "user": {
      "displayName": "Tri Nguyen Duc",
      "photoUrl": "",
      "userId": "07671390057893090774"
     },
     "user_tz": -420
    },
    "id": "s1h5mdF-aZLd",
    "outputId": "025d08e4-6911-4bda-8644-9ac2b356d6e0"
   },
   "outputs": [],
   "source": []
  },
  {
   "cell_type": "code",
   "execution_count": null,
   "metadata": {
    "colab": {},
    "colab_type": "code",
    "id": "Mx96HiHg_j2-"
   },
   "outputs": [],
   "source": [
    "doc_id='icy'"
   ]
  },
  {
   "cell_type": "code",
   "execution_count": null,
   "metadata": {
    "colab": {
     "base_uri": "https://localhost:8080/",
     "height": 54
    },
    "colab_type": "code",
    "executionInfo": {
     "elapsed": 1032,
     "status": "ok",
     "timestamp": 1559546216926,
     "user": {
      "displayName": "Tri Nguyen Duc",
      "photoUrl": "",
      "userId": "07671390057893090774"
     },
     "user_tz": -420
    },
    "id": "8y3KudahLnAD",
    "outputId": "f1878f79-7193-4862-ec22-6fe975da90b6"
   },
   "outputs": [],
   "source": [
    "' '.join(list(df2[df2['id'].map(lambda x: x[:3]==doc_id)]['no_tone']))"
   ]
  },
  {
   "cell_type": "code",
   "execution_count": null,
   "metadata": {
    "colab": {
     "base_uri": "https://localhost:8080/",
     "height": 54
    },
    "colab_type": "code",
    "executionInfo": {
     "elapsed": 1625,
     "status": "ok",
     "timestamp": 1559546217690,
     "user": {
      "displayName": "Tri Nguyen Duc",
      "photoUrl": "",
      "userId": "07671390057893090774"
     },
     "user_tz": -420
    },
    "id": "J6EzR6Y_8MYb",
    "outputId": "fc84a6fd-ca9b-416e-9bbb-de64696bd31e"
   },
   "outputs": [],
   "source": [
    "' '.join(list(df1[df1['id'].map(lambda x: x[:3]==doc_id)]['no_tone']))"
   ]
  },
  {
   "cell_type": "code",
   "execution_count": null,
   "metadata": {
    "colab": {
     "base_uri": "https://localhost:8080/",
     "height": 150
    },
    "colab_type": "code",
    "executionInfo": {
     "elapsed": 1045,
     "status": "ok",
     "timestamp": 1559546256508,
     "user": {
      "displayName": "Tri Nguyen Duc",
      "photoUrl": "",
      "userId": "07671390057893090774"
     },
     "user_tz": -420
    },
    "id": "IsYg5eEN5WAK",
    "outputId": "7a5e3a0a-d9c6-4559-e2d5-2505fd7cf840"
   },
   "outputs": [],
   "source": [
    "df_submit[df_submit[0]==doc_id]"
   ]
  },
  {
   "cell_type": "code",
   "execution_count": null,
   "metadata": {
    "colab": {
     "base_uri": "https://localhost:8080/",
     "height": 52
    },
    "colab_type": "code",
    "executionInfo": {
     "elapsed": 4553,
     "status": "ok",
     "timestamp": 1559545861566,
     "user": {
      "displayName": "Tri Nguyen Duc",
      "photoUrl": "",
      "userId": "07671390057893090774"
     },
     "user_tz": -420
    },
    "id": "ZKiQL0XBJCpq",
    "outputId": "5954cb11-51da-4b96-d0f9-e3617bf10e48"
   },
   "outputs": [],
   "source": [
    "!ls /source/main/data_download/output/"
   ]
  },
  {
   "cell_type": "code",
   "execution_count": 41,
   "metadata": {
    "colab": {
     "base_uri": "https://localhost:8080/",
     "height": 34
    },
    "colab_type": "code",
    "executionInfo": {
     "elapsed": 4081,
     "status": "ok",
     "timestamp": 1559546423460,
     "user": {
      "displayName": "Tri Nguyen Duc",
      "photoUrl": "",
      "userId": "07671390057893090774"
     },
     "user_tz": -420
    },
    "id": "OUQeHIzeD_7i",
    "outputId": "1b2162ce-2a74-4214-b1be-fbe46f451525"
   },
   "outputs": [
    {
     "name": "stdout",
     "output_type": "stream",
     "text": [
      "453447 /source/main/data_download/output/test_pred_simplified.csv\r\n"
     ]
    }
   ],
   "source": [
    "!wc -l /source/main/data_download/output/test_pred_simplified.csv"
   ]
  },
  {
   "cell_type": "code",
   "execution_count": null,
   "metadata": {
    "colab": {
     "base_uri": "https://localhost:8080/",
     "height": 34
    },
    "colab_type": "code",
    "executionInfo": {
     "elapsed": 2297,
     "status": "ok",
     "timestamp": 1559546099215,
     "user": {
      "displayName": "Tri Nguyen Duc",
      "photoUrl": "",
      "userId": "07671390057893090774"
     },
     "user_tz": -420
    },
    "id": "2sAaUXl57shO",
    "outputId": "62d6ca8b-4290-46bf-86d7-aba473cdc3cd"
   },
   "outputs": [],
   "source": [
    "predict_batch(['__o__'])"
   ]
  },
  {
   "cell_type": "code",
   "execution_count": null,
   "metadata": {
    "colab": {},
    "colab_type": "code",
    "id": "shAEzItGMKHo"
   },
   "outputs": [],
   "source": []
  },
  {
   "cell_type": "code",
   "execution_count": null,
   "metadata": {},
   "outputs": [],
   "source": []
  }
 ],
 "metadata": {
  "accelerator": "GPU",
  "colab": {
   "collapsed_sections": [],
   "name": "evaluate_on_gg_colab.ipynb",
   "provenance": [],
   "toc_visible": true,
   "version": "0.3.2"
  },
  "kernelspec": {
   "display_name": "Python 3",
   "language": "python",
   "name": "python3"
  },
  "language_info": {
   "codemirror_mode": {
    "name": "ipython",
    "version": 3
   },
   "file_extension": ".py",
   "mimetype": "text/x-python",
   "name": "python",
   "nbconvert_exporter": "python",
   "pygments_lexer": "ipython3",
   "version": "3.6.8"
  }
 },
 "nbformat": 4,
 "nbformat_minor": 1
}
