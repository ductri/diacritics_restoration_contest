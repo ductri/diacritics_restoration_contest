{
 "cells": [
  {
   "cell_type": "code",
   "execution_count": 1,
   "metadata": {},
   "outputs": [],
   "source": [
    "import sys\n",
    "sys.path.append('/source/main/')"
   ]
  },
  {
   "cell_type": "code",
   "execution_count": 2,
   "metadata": {},
   "outputs": [],
   "source": [
    "import logging\n",
    "logging.basicConfig(level=logging.INFO)\n",
    "\n",
    "import numpy as np\n",
    "import torch\n",
    "\n",
    "from data_for_train import dataset as my_dataset\n",
    "from model_def.seq2seq_attn import Seq2SeqAttn\n"
   ]
  },
  {
   "cell_type": "code",
   "execution_count": 3,
   "metadata": {},
   "outputs": [
    {
     "name": "stderr",
     "output_type": "stream",
     "text": [
      "INFO:root:Indexing vocabs successfully. Total vocabs: 25390\n",
      "INFO:root:Indexing vocabs successfully. Total vocabs: 50437\n",
      "INFO:root:Vocab for source from file /source/main/vocab/output/src.pkl contains 25390 tokens\n",
      "INFO:root:Vocab for source from file /source/main/vocab/output/tgt.pkl contains 50437 tokens\n"
     ]
    }
   ],
   "source": [
    "my_dataset.bootstrap()"
   ]
  },
  {
   "cell_type": "code",
   "execution_count": 14,
   "metadata": {},
   "outputs": [],
   "source": [
    "model = Seq2SeqAttn(src_vocab_size=len(my_dataset.voc_src.index2word),\n",
    "                    tgt_vocab_size=len(my_dataset.voc_tgt.index2word),\n",
    "                    start_idx=2,\n",
    "                    end_idx=3\n",
    "                    )\n"
   ]
  },
  {
   "cell_type": "code",
   "execution_count": 15,
   "metadata": {},
   "outputs": [
    {
     "data": {
      "text/plain": [
       "tensor([[2]])"
      ]
     },
     "execution_count": 15,
     "metadata": {},
     "output_type": "execute_result"
    }
   ],
   "source": [
    "model.start_idx"
   ]
  },
  {
   "cell_type": "code",
   "execution_count": 16,
   "metadata": {},
   "outputs": [],
   "source": [
    "model.start_idx = torch.Tensor([[10]])"
   ]
  },
  {
   "cell_type": "code",
   "execution_count": 17,
   "metadata": {},
   "outputs": [
    {
     "data": {
      "text/plain": [
       "tensor([[10.]])"
      ]
     },
     "execution_count": 17,
     "metadata": {},
     "output_type": "execute_result"
    }
   ],
   "source": [
    "model.start_idx"
   ]
  },
  {
   "cell_type": "code",
   "execution_count": 18,
   "metadata": {},
   "outputs": [
    {
     "name": "stderr",
     "output_type": "stream",
     "text": [
      "INFO:root:Load pre-trained model from /source/main/train/output/saved_models//Seq2SeqAttn/2019-05-30T06:27:24/210000.pt successfully\n"
     ]
    }
   ],
   "source": [
    "device = torch.device('cpu')\n",
    "PRE_TRAINED_MODEL = '/source/main/train/output/saved_models//Seq2SeqAttn/2019-05-30T06:27:24/210000.pt'\n",
    "\n",
    "checkpoint = torch.load(PRE_TRAINED_MODEL, map_location=device)\n",
    "model.load_state_dict(checkpoint['model_state_dict'])\n",
    "\n",
    "logging.info('Load pre-trained model from %s successfully', PRE_TRAINED_MODEL)"
   ]
  },
  {
   "cell_type": "code",
   "execution_count": 19,
   "metadata": {},
   "outputs": [
    {
     "data": {
      "text/plain": [
       "tensor([[2.]])"
      ]
     },
     "execution_count": 19,
     "metadata": {},
     "output_type": "execute_result"
    }
   ],
   "source": [
    "model.start_idx"
   ]
  },
  {
   "cell_type": "code",
   "execution_count": 12,
   "metadata": {},
   "outputs": [],
   "source": [
    "def predict_batch(input_docs):\n",
    "    input_idx = my_dataset.voc_src.docs2idx(input_docs, equal_length=100)\n",
    "    input_tensor = torch.from_numpy(np.array(input_idx))\n",
    "    output_tensor = model(input_tensor)\n",
    "    output_idx = output_tensor.cpu().numpy()    \n",
    "    output_docs = my_dataset.voc_tgt.idx2docs(output_idx)\n",
    "    return output_docs"
   ]
  },
  {
   "cell_type": "code",
   "execution_count": 15,
   "metadata": {},
   "outputs": [
    {
     "data": {
      "text/plain": [
       "['hôm nay tôi đi chợ']"
      ]
     },
     "execution_count": 15,
     "metadata": {},
     "output_type": "execute_result"
    }
   ],
   "source": [
    "predict_batch(['hom nay toi di cho'])"
   ]
  },
  {
   "cell_type": "code",
   "execution_count": 12,
   "metadata": {},
   "outputs": [
    {
     "data": {
      "text/plain": [
       "Seq2SeqAttn(\n",
       "  (encoder): Encoder(\n",
       "    (embedding): Embedding(25390, 256)\n",
       "    (lstm): LSTM(256, 512, num_layers=3, dropout=0.3, bidirectional=True)\n",
       "    (dropout): Dropout(p=0.3)\n",
       "  )\n",
       "  (flatten_hidden_lstm): FlattenHiddenLSTM()\n",
       "  (core_decoder): AttnRawDecoder(\n",
       "    (embedding): Embedding(50437, 256)\n",
       "    (lstm): LSTM(256, 512, num_layers=3, dropout=0.3)\n",
       "    (attention): Attention(\n",
       "      (scoring): Linear(in_features=512, out_features=1024, bias=True)\n",
       "      (softmax): Softmax()\n",
       "    )\n",
       "    (output_mapping): Linear(in_features=1536, out_features=50437, bias=True)\n",
       "    (dropout): Dropout(p=0.3)\n",
       "  )\n",
       "  (greedy_infer): DecoderGreedyInfer(\n",
       "    (core_decoder): AttnRawDecoder(\n",
       "      (embedding): Embedding(50437, 256)\n",
       "      (lstm): LSTM(256, 512, num_layers=3, dropout=0.3)\n",
       "      (attention): Attention(\n",
       "        (scoring): Linear(in_features=512, out_features=1024, bias=True)\n",
       "        (softmax): Softmax()\n",
       "      )\n",
       "      (output_mapping): Linear(in_features=1536, out_features=50437, bias=True)\n",
       "      (dropout): Dropout(p=0.3)\n",
       "    )\n",
       "  )\n",
       ")"
      ]
     },
     "execution_count": 12,
     "metadata": {},
     "output_type": "execute_result"
    }
   ],
   "source": [
    "model"
   ]
  },
  {
   "cell_type": "code",
   "execution_count": null,
   "metadata": {},
   "outputs": [],
   "source": []
  }
 ],
 "metadata": {
  "kernelspec": {
   "display_name": "Python 3",
   "language": "python",
   "name": "python3"
  },
  "language_info": {
   "codemirror_mode": {
    "name": "ipython",
    "version": 3
   },
   "file_extension": ".py",
   "mimetype": "text/x-python",
   "name": "python",
   "nbconvert_exporter": "python",
   "pygments_lexer": "ipython3",
   "version": "3.6.8"
  }
 },
 "nbformat": 4,
 "nbformat_minor": 2
}
