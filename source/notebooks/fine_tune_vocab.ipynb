{
 "cells": [
  {
   "cell_type": "code",
   "execution_count": 8,
   "metadata": {},
   "outputs": [],
   "source": [
    "import sys\n",
    "sys.path.append('/source/main')"
   ]
  },
  {
   "cell_type": "code",
   "execution_count": 19,
   "metadata": {},
   "outputs": [],
   "source": [
    "import numpy as np\n",
    "\n",
    "from naruto_skills.voc import Voc\n",
    "\n",
    "from utils import text_utils"
   ]
  },
  {
   "cell_type": "code",
   "execution_count": 11,
   "metadata": {},
   "outputs": [],
   "source": [
    "v_s = Voc.load('/source/main/vocab/output/src.json')\n",
    "vocab_s = list(v_s.word2index.keys())\n",
    "\n",
    "v_t = Voc.load('/source/main/vocab/output/tgt.json')\n",
    "vocab_t = list(v_t.word2index.keys())"
   ]
  },
  {
   "cell_type": "code",
   "execution_count": 14,
   "metadata": {},
   "outputs": [
    {
     "data": {
      "text/plain": [
       "3517"
      ]
     },
     "execution_count": 14,
     "metadata": {},
     "output_type": "execute_result"
    }
   ],
   "source": [
    "vocab_s = set(vocab_s)\n",
    "len(vocab_s)"
   ]
  },
  {
   "cell_type": "code",
   "execution_count": 15,
   "metadata": {},
   "outputs": [
    {
     "data": {
      "text/plain": [
       "31183"
      ]
     },
     "execution_count": 15,
     "metadata": {},
     "output_type": "execute_result"
    }
   ],
   "source": [
    "len(vocab_t)"
   ]
  },
  {
   "cell_type": "code",
   "execution_count": 27,
   "metadata": {},
   "outputs": [],
   "source": [
    "vocab_t_out = [vocab for vocab in vocab_t if text_utils.remove_tone_line(vocab) not in vocab_s]\n",
    "vocab_t_finer = [vocab for vocab in vocab_t if text_utils.remove_tone_line(vocab) in vocab_s]"
   ]
  },
  {
   "cell_type": "code",
   "execution_count": 28,
   "metadata": {},
   "outputs": [
    {
     "data": {
      "text/plain": [
       "22427"
      ]
     },
     "execution_count": 28,
     "metadata": {},
     "output_type": "execute_result"
    }
   ],
   "source": [
    "len(vocab_t_out)"
   ]
  },
  {
   "cell_type": "code",
   "execution_count": 29,
   "metadata": {},
   "outputs": [
    {
     "data": {
      "text/plain": [
       "8756"
      ]
     },
     "execution_count": 29,
     "metadata": {},
     "output_type": "execute_result"
    }
   ],
   "source": [
    "len(vocab_t_finer)"
   ]
  },
  {
   "cell_type": "code",
   "execution_count": 26,
   "metadata": {},
   "outputs": [
    {
     "data": {
      "text/plain": [
       "array(['tax', 'smt', 'bands', 'gibbosa', 'bhatkal', 'usc', 'oberlin',\n",
       "       'simeon', 'hechtia', 'aya', 'trapusa', 'isabel', 'cvpmqt',\n",
       "       'miersia', 'gawl', 'savary', 'vfm', 'biker', 'viagra', 'paz',\n",
       "       'aigle', 'bois', 'hantu', 'unclos', 'fork', 'buffay', 'kyiv',\n",
       "       'rotata', 'dunlop', 'answer', 'slaven', 'grobya', 'riken',\n",
       "       'chienii', 'hebron', 'krukoff', 'thŕnh', 'trade', 'khuổi',\n",
       "       'klainei', 'liabum', 'syriza', 'melvin', 'roei', 'kfw', 'vinapco',\n",
       "       'laci', 'matayba', 'santafe', 'prina', 'nee', 'turdus', 'haifa',\n",
       "       'cz', 'alphard', 'wedelia', 'matter', 'buda', 'muhmood', 'pug',\n",
       "       'francey', 'vostok', 'assadi', 'dōbutsu', 'ae', 'macao', 'boivin',\n",
       "       'tnnd', 'lundby', 'avrora', 'kakao', 'haldane', 'genova', 'sokha',\n",
       "       'vws', 'konishi', 'gull', 'laridae', 'seydou', 'sulley', 'lepidus',\n",
       "       'zooey', 'babiana', 'upcom', 'cypria', 'leandro', 'vd', 'kleinia',\n",
       "       'liban', 'stosch', 'veil', 'bletia', 'mendum', 'welt', 'cgcn',\n",
       "       'esm', 'cipura', '\\uf0b7', 'manas', 'models'], dtype='<U7')"
      ]
     },
     "execution_count": 26,
     "metadata": {},
     "output_type": "execute_result"
    }
   ],
   "source": [
    "np.random.choice(vocab_t_out, size=100)"
   ]
  },
  {
   "cell_type": "code",
   "execution_count": 31,
   "metadata": {},
   "outputs": [
    {
     "name": "stdout",
     "output_type": "stream",
     "text": [
      "Done\n"
     ]
    }
   ],
   "source": [
    "voc = Voc('tgt')\n",
    "voc.space_char = ' '\n",
    "voc.tokenize_func = str.split\n",
    "voc.add_sentence(' '.join(vocab_t_finer))\n",
    "voc.dump('/source/main/vocab/output/tgt.json')\n",
    "print('Done')"
   ]
  },
  {
   "cell_type": "code",
   "execution_count": null,
   "metadata": {},
   "outputs": [],
   "source": []
  }
 ],
 "metadata": {
  "kernelspec": {
   "display_name": "Python 3",
   "language": "python",
   "name": "python3"
  },
  "language_info": {
   "codemirror_mode": {
    "name": "ipython",
    "version": 3
   },
   "file_extension": ".py",
   "mimetype": "text/x-python",
   "name": "python",
   "nbconvert_exporter": "python",
   "pygments_lexer": "ipython3",
   "version": "3.6.8"
  }
 },
 "nbformat": 4,
 "nbformat_minor": 2
}
